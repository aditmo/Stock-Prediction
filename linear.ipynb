{
 "cells": [
  {
   "cell_type": "code",
   "execution_count": 1,
   "metadata": {},
   "outputs": [],
   "source": [
    "import os\n",
    "import pandas as pd\n",
    "from sklearn.model_selection import train_test_split\n",
    "from sklearn.linear_model import LinearRegression\n",
    "from sklearn.metrics import r2_score\n",
    "import matplotlib.pyplot as plt\n",
    "import numpy as np\n",
    "import datetime"
   ]
  },
  {
   "cell_type": "code",
   "execution_count": 2,
   "metadata": {},
   "outputs": [
    {
     "data": {
      "text/plain": [
       "Date                      0\n",
       "Symbol                    0\n",
       "Series_x                  0\n",
       "Prev Close                0\n",
       "Open                      0\n",
       "High                      0\n",
       "Low                       0\n",
       "Last                      0\n",
       "Close                     0\n",
       "VWAP                      0\n",
       "Volume                    0\n",
       "Turnover                  0\n",
       "Deliverable Volume    10298\n",
       "%Deliverble           10298\n",
       "Company Name              0\n",
       "Industry                  0\n",
       "dtype: int64"
      ]
     },
     "execution_count": 2,
     "metadata": {},
     "output_type": "execute_result"
    }
   ],
   "source": [
    "df = pd.read_csv('final_merged.csv')\n",
    "\n",
    "df.isnull().sum()"
   ]
  },
  {
   "cell_type": "code",
   "execution_count": 3,
   "metadata": {},
   "outputs": [
    {
     "data": {
      "text/html": [
       "<div>\n",
       "<style scoped>\n",
       "    .dataframe tbody tr th:only-of-type {\n",
       "        vertical-align: middle;\n",
       "    }\n",
       "\n",
       "    .dataframe tbody tr th {\n",
       "        vertical-align: top;\n",
       "    }\n",
       "\n",
       "    .dataframe thead th {\n",
       "        text-align: right;\n",
       "    }\n",
       "</style>\n",
       "<table border=\"1\" class=\"dataframe\">\n",
       "  <thead>\n",
       "    <tr style=\"text-align: right;\">\n",
       "      <th></th>\n",
       "      <th>Date</th>\n",
       "      <th>Symbol</th>\n",
       "      <th>Series_x</th>\n",
       "      <th>Prev Close</th>\n",
       "      <th>Open</th>\n",
       "      <th>High</th>\n",
       "      <th>Low</th>\n",
       "      <th>Last</th>\n",
       "      <th>Close</th>\n",
       "      <th>VWAP</th>\n",
       "      <th>Volume</th>\n",
       "      <th>Turnover</th>\n",
       "      <th>Deliverable Volume</th>\n",
       "      <th>%Deliverble</th>\n",
       "      <th>Company Name</th>\n",
       "      <th>Industry</th>\n",
       "    </tr>\n",
       "  </thead>\n",
       "  <tbody>\n",
       "    <tr>\n",
       "      <th>0</th>\n",
       "      <td>03-01-2000</td>\n",
       "      <td>BRITANNIA</td>\n",
       "      <td>EQ</td>\n",
       "      <td>703.25</td>\n",
       "      <td>705.0</td>\n",
       "      <td>759.50</td>\n",
       "      <td>705.0</td>\n",
       "      <td>758.00</td>\n",
       "      <td>756.90</td>\n",
       "      <td>741.01</td>\n",
       "      <td>7512</td>\n",
       "      <td>5.566490e+11</td>\n",
       "      <td>NaN</td>\n",
       "      <td>NaN</td>\n",
       "      <td>Britannia Industries Ltd.</td>\n",
       "      <td>CONSUMER GOODS</td>\n",
       "    </tr>\n",
       "    <tr>\n",
       "      <th>1</th>\n",
       "      <td>03-01-2000</td>\n",
       "      <td>ITC</td>\n",
       "      <td>EQ</td>\n",
       "      <td>656.00</td>\n",
       "      <td>694.0</td>\n",
       "      <td>708.50</td>\n",
       "      <td>675.0</td>\n",
       "      <td>708.50</td>\n",
       "      <td>708.50</td>\n",
       "      <td>701.81</td>\n",
       "      <td>562715</td>\n",
       "      <td>3.949170e+13</td>\n",
       "      <td>NaN</td>\n",
       "      <td>NaN</td>\n",
       "      <td>ITC Ltd.</td>\n",
       "      <td>CONSUMER GOODS</td>\n",
       "    </tr>\n",
       "    <tr>\n",
       "      <th>2</th>\n",
       "      <td>03-01-2000</td>\n",
       "      <td>GRASIM</td>\n",
       "      <td>EQ</td>\n",
       "      <td>405.80</td>\n",
       "      <td>429.9</td>\n",
       "      <td>438.30</td>\n",
       "      <td>425.0</td>\n",
       "      <td>438.30</td>\n",
       "      <td>438.30</td>\n",
       "      <td>432.24</td>\n",
       "      <td>101578</td>\n",
       "      <td>4.390620e+12</td>\n",
       "      <td>NaN</td>\n",
       "      <td>NaN</td>\n",
       "      <td>Grasim Industries Ltd.</td>\n",
       "      <td>CEMENT &amp; CEMENT PRODUCTS</td>\n",
       "    </tr>\n",
       "    <tr>\n",
       "      <th>3</th>\n",
       "      <td>03-01-2000</td>\n",
       "      <td>RELIANCE</td>\n",
       "      <td>EQ</td>\n",
       "      <td>233.05</td>\n",
       "      <td>237.5</td>\n",
       "      <td>251.70</td>\n",
       "      <td>237.5</td>\n",
       "      <td>251.70</td>\n",
       "      <td>251.70</td>\n",
       "      <td>249.37</td>\n",
       "      <td>4456424</td>\n",
       "      <td>1.111320e+14</td>\n",
       "      <td>NaN</td>\n",
       "      <td>NaN</td>\n",
       "      <td>Reliance Industries Ltd.</td>\n",
       "      <td>ENERGY</td>\n",
       "    </tr>\n",
       "    <tr>\n",
       "      <th>4</th>\n",
       "      <td>03-01-2000</td>\n",
       "      <td>M&amp;M</td>\n",
       "      <td>EQ</td>\n",
       "      <td>419.75</td>\n",
       "      <td>453.3</td>\n",
       "      <td>453.35</td>\n",
       "      <td>448.9</td>\n",
       "      <td>453.35</td>\n",
       "      <td>453.35</td>\n",
       "      <td>453.18</td>\n",
       "      <td>67195</td>\n",
       "      <td>3.045170e+12</td>\n",
       "      <td>NaN</td>\n",
       "      <td>NaN</td>\n",
       "      <td>Mahindra &amp; Mahindra Ltd.</td>\n",
       "      <td>AUTOMOBILE</td>\n",
       "    </tr>\n",
       "  </tbody>\n",
       "</table>\n",
       "</div>"
      ],
      "text/plain": [
       "         Date     Symbol Series_x  Prev Close   Open    High    Low    Last   \n",
       "0  03-01-2000  BRITANNIA       EQ      703.25  705.0  759.50  705.0  758.00  \\\n",
       "1  03-01-2000        ITC       EQ      656.00  694.0  708.50  675.0  708.50   \n",
       "2  03-01-2000     GRASIM       EQ      405.80  429.9  438.30  425.0  438.30   \n",
       "3  03-01-2000   RELIANCE       EQ      233.05  237.5  251.70  237.5  251.70   \n",
       "4  03-01-2000        M&M       EQ      419.75  453.3  453.35  448.9  453.35   \n",
       "\n",
       "    Close    VWAP   Volume      Turnover  Deliverable Volume  %Deliverble   \n",
       "0  756.90  741.01     7512  5.566490e+11                 NaN          NaN  \\\n",
       "1  708.50  701.81   562715  3.949170e+13                 NaN          NaN   \n",
       "2  438.30  432.24   101578  4.390620e+12                 NaN          NaN   \n",
       "3  251.70  249.37  4456424  1.111320e+14                 NaN          NaN   \n",
       "4  453.35  453.18    67195  3.045170e+12                 NaN          NaN   \n",
       "\n",
       "                Company Name                  Industry  \n",
       "0  Britannia Industries Ltd.            CONSUMER GOODS  \n",
       "1                   ITC Ltd.            CONSUMER GOODS  \n",
       "2     Grasim Industries Ltd.  CEMENT & CEMENT PRODUCTS  \n",
       "3   Reliance Industries Ltd.                    ENERGY  \n",
       "4   Mahindra & Mahindra Ltd.                AUTOMOBILE  "
      ]
     },
     "execution_count": 3,
     "metadata": {},
     "output_type": "execute_result"
    }
   ],
   "source": [
    "df.head()"
   ]
  },
  {
   "cell_type": "code",
   "execution_count": 4,
   "metadata": {},
   "outputs": [],
   "source": [
    "df['Date'] = pd.to_datetime(df['Date'],format='%d-%m-%Y')"
   ]
  },
  {
   "cell_type": "code",
   "execution_count": 5,
   "metadata": {},
   "outputs": [
    {
     "data": {
      "text/html": [
       "<div>\n",
       "<style scoped>\n",
       "    .dataframe tbody tr th:only-of-type {\n",
       "        vertical-align: middle;\n",
       "    }\n",
       "\n",
       "    .dataframe tbody tr th {\n",
       "        vertical-align: top;\n",
       "    }\n",
       "\n",
       "    .dataframe thead th {\n",
       "        text-align: right;\n",
       "    }\n",
       "</style>\n",
       "<table border=\"1\" class=\"dataframe\">\n",
       "  <thead>\n",
       "    <tr style=\"text-align: right;\">\n",
       "      <th></th>\n",
       "      <th>Date</th>\n",
       "      <th>Symbol</th>\n",
       "      <th>Series_x</th>\n",
       "      <th>Prev Close</th>\n",
       "      <th>Open</th>\n",
       "      <th>High</th>\n",
       "      <th>Low</th>\n",
       "      <th>Last</th>\n",
       "      <th>Close</th>\n",
       "      <th>VWAP</th>\n",
       "      <th>Volume</th>\n",
       "      <th>Turnover</th>\n",
       "      <th>Deliverable Volume</th>\n",
       "      <th>%Deliverble</th>\n",
       "      <th>Company Name</th>\n",
       "      <th>Industry</th>\n",
       "    </tr>\n",
       "  </thead>\n",
       "  <tbody>\n",
       "    <tr>\n",
       "      <th>0</th>\n",
       "      <td>2000-01-03</td>\n",
       "      <td>BRITANNIA</td>\n",
       "      <td>EQ</td>\n",
       "      <td>703.25</td>\n",
       "      <td>705.0</td>\n",
       "      <td>759.50</td>\n",
       "      <td>705.0</td>\n",
       "      <td>758.00</td>\n",
       "      <td>756.90</td>\n",
       "      <td>741.01</td>\n",
       "      <td>7512</td>\n",
       "      <td>5.566490e+11</td>\n",
       "      <td>NaN</td>\n",
       "      <td>NaN</td>\n",
       "      <td>Britannia Industries Ltd.</td>\n",
       "      <td>CONSUMER GOODS</td>\n",
       "    </tr>\n",
       "    <tr>\n",
       "      <th>1</th>\n",
       "      <td>2000-01-03</td>\n",
       "      <td>ITC</td>\n",
       "      <td>EQ</td>\n",
       "      <td>656.00</td>\n",
       "      <td>694.0</td>\n",
       "      <td>708.50</td>\n",
       "      <td>675.0</td>\n",
       "      <td>708.50</td>\n",
       "      <td>708.50</td>\n",
       "      <td>701.81</td>\n",
       "      <td>562715</td>\n",
       "      <td>3.949170e+13</td>\n",
       "      <td>NaN</td>\n",
       "      <td>NaN</td>\n",
       "      <td>ITC Ltd.</td>\n",
       "      <td>CONSUMER GOODS</td>\n",
       "    </tr>\n",
       "    <tr>\n",
       "      <th>2</th>\n",
       "      <td>2000-01-03</td>\n",
       "      <td>GRASIM</td>\n",
       "      <td>EQ</td>\n",
       "      <td>405.80</td>\n",
       "      <td>429.9</td>\n",
       "      <td>438.30</td>\n",
       "      <td>425.0</td>\n",
       "      <td>438.30</td>\n",
       "      <td>438.30</td>\n",
       "      <td>432.24</td>\n",
       "      <td>101578</td>\n",
       "      <td>4.390620e+12</td>\n",
       "      <td>NaN</td>\n",
       "      <td>NaN</td>\n",
       "      <td>Grasim Industries Ltd.</td>\n",
       "      <td>CEMENT &amp; CEMENT PRODUCTS</td>\n",
       "    </tr>\n",
       "    <tr>\n",
       "      <th>3</th>\n",
       "      <td>2000-01-03</td>\n",
       "      <td>RELIANCE</td>\n",
       "      <td>EQ</td>\n",
       "      <td>233.05</td>\n",
       "      <td>237.5</td>\n",
       "      <td>251.70</td>\n",
       "      <td>237.5</td>\n",
       "      <td>251.70</td>\n",
       "      <td>251.70</td>\n",
       "      <td>249.37</td>\n",
       "      <td>4456424</td>\n",
       "      <td>1.111320e+14</td>\n",
       "      <td>NaN</td>\n",
       "      <td>NaN</td>\n",
       "      <td>Reliance Industries Ltd.</td>\n",
       "      <td>ENERGY</td>\n",
       "    </tr>\n",
       "    <tr>\n",
       "      <th>4</th>\n",
       "      <td>2000-01-03</td>\n",
       "      <td>M&amp;M</td>\n",
       "      <td>EQ</td>\n",
       "      <td>419.75</td>\n",
       "      <td>453.3</td>\n",
       "      <td>453.35</td>\n",
       "      <td>448.9</td>\n",
       "      <td>453.35</td>\n",
       "      <td>453.35</td>\n",
       "      <td>453.18</td>\n",
       "      <td>67195</td>\n",
       "      <td>3.045170e+12</td>\n",
       "      <td>NaN</td>\n",
       "      <td>NaN</td>\n",
       "      <td>Mahindra &amp; Mahindra Ltd.</td>\n",
       "      <td>AUTOMOBILE</td>\n",
       "    </tr>\n",
       "  </tbody>\n",
       "</table>\n",
       "</div>"
      ],
      "text/plain": [
       "        Date     Symbol Series_x  Prev Close   Open    High    Low    Last   \n",
       "0 2000-01-03  BRITANNIA       EQ      703.25  705.0  759.50  705.0  758.00  \\\n",
       "1 2000-01-03        ITC       EQ      656.00  694.0  708.50  675.0  708.50   \n",
       "2 2000-01-03     GRASIM       EQ      405.80  429.9  438.30  425.0  438.30   \n",
       "3 2000-01-03   RELIANCE       EQ      233.05  237.5  251.70  237.5  251.70   \n",
       "4 2000-01-03        M&M       EQ      419.75  453.3  453.35  448.9  453.35   \n",
       "\n",
       "    Close    VWAP   Volume      Turnover  Deliverable Volume  %Deliverble   \n",
       "0  756.90  741.01     7512  5.566490e+11                 NaN          NaN  \\\n",
       "1  708.50  701.81   562715  3.949170e+13                 NaN          NaN   \n",
       "2  438.30  432.24   101578  4.390620e+12                 NaN          NaN   \n",
       "3  251.70  249.37  4456424  1.111320e+14                 NaN          NaN   \n",
       "4  453.35  453.18    67195  3.045170e+12                 NaN          NaN   \n",
       "\n",
       "                Company Name                  Industry  \n",
       "0  Britannia Industries Ltd.            CONSUMER GOODS  \n",
       "1                   ITC Ltd.            CONSUMER GOODS  \n",
       "2     Grasim Industries Ltd.  CEMENT & CEMENT PRODUCTS  \n",
       "3   Reliance Industries Ltd.                    ENERGY  \n",
       "4   Mahindra & Mahindra Ltd.                AUTOMOBILE  "
      ]
     },
     "execution_count": 5,
     "metadata": {},
     "output_type": "execute_result"
    }
   ],
   "source": [
    "df.head()"
   ]
  },
  {
   "cell_type": "code",
   "execution_count": 6,
   "metadata": {},
   "outputs": [],
   "source": [
    "X = df[['Prev Close','Date']].values\n",
    "y = df[['Close']].values\n"
   ]
  },
  {
   "cell_type": "code",
   "execution_count": 7,
   "metadata": {},
   "outputs": [],
   "source": [
    "X_train, X_test, y_train, y_test = train_test_split(X, y, test_size=0.2, shuffle=False)"
   ]
  },
  {
   "cell_type": "code",
   "execution_count": 8,
   "metadata": {},
   "outputs": [
    {
     "name": "stdout",
     "output_type": "stream",
     "text": [
      "[[703.25 Timestamp('2000-01-03 00:00:00')]\n",
      " [656.0 Timestamp('2000-01-03 00:00:00')]\n",
      " [405.8 Timestamp('2000-01-03 00:00:00')]\n",
      " ...\n",
      " [319.45 Timestamp('2017-11-24 00:00:00')]\n",
      " [3288.3 Timestamp('2017-11-27 00:00:00')]\n",
      " [1218.5 Timestamp('2017-11-27 00:00:00')]]\n"
     ]
    }
   ],
   "source": [
    "print(X_train)"
   ]
  },
  {
   "cell_type": "code",
   "execution_count": 9,
   "metadata": {},
   "outputs": [
    {
     "name": "stdout",
     "output_type": "stream",
     "text": [
      "[[4742.0 Timestamp('2017-11-27 00:00:00')]\n",
      " [260.75 Timestamp('2017-11-27 00:00:00')]\n",
      " [1201.6 Timestamp('2017-11-27 00:00:00')]\n",
      " ...\n",
      " [419.55 Timestamp('2021-04-30 00:00:00')]\n",
      " [103.05 Timestamp('2021-04-30 00:00:00')]\n",
      " [621.45 Timestamp('2021-04-30 00:00:00')]]\n"
     ]
    }
   ],
   "source": [
    "print(X_test)"
   ]
  },
  {
   "cell_type": "code",
   "execution_count": 10,
   "metadata": {},
   "outputs": [],
   "source": [
    "X_df = pd.DataFrame(X_train, columns=[['Prev Close','Date']])\n",
    "y_df = pd.DataFrame(y_train, columns=['Close'])"
   ]
  },
  {
   "cell_type": "code",
   "execution_count": 11,
   "metadata": {},
   "outputs": [
    {
     "name": "stdout",
     "output_type": "stream",
     "text": [
      "       Prev Close\n",
      "0          703.25\n",
      "1           656.0\n",
      "2           405.8\n",
      "3          233.05\n",
      "4          419.75\n",
      "...           ...\n",
      "159222     505.15\n",
      "159223      180.4\n",
      "159224     319.45\n",
      "159225     3288.3\n",
      "159226     1218.5\n",
      "\n",
      "[159227 rows x 1 columns]\n"
     ]
    }
   ],
   "source": [
    "print(X_df['Prev Close'])"
   ]
  },
  {
   "cell_type": "code",
   "execution_count": 12,
   "metadata": {},
   "outputs": [
    {
     "data": {
      "text/html": [
       "<style>#sk-container-id-1 {color: black;background-color: white;}#sk-container-id-1 pre{padding: 0;}#sk-container-id-1 div.sk-toggleable {background-color: white;}#sk-container-id-1 label.sk-toggleable__label {cursor: pointer;display: block;width: 100%;margin-bottom: 0;padding: 0.3em;box-sizing: border-box;text-align: center;}#sk-container-id-1 label.sk-toggleable__label-arrow:before {content: \"▸\";float: left;margin-right: 0.25em;color: #696969;}#sk-container-id-1 label.sk-toggleable__label-arrow:hover:before {color: black;}#sk-container-id-1 div.sk-estimator:hover label.sk-toggleable__label-arrow:before {color: black;}#sk-container-id-1 div.sk-toggleable__content {max-height: 0;max-width: 0;overflow: hidden;text-align: left;background-color: #f0f8ff;}#sk-container-id-1 div.sk-toggleable__content pre {margin: 0.2em;color: black;border-radius: 0.25em;background-color: #f0f8ff;}#sk-container-id-1 input.sk-toggleable__control:checked~div.sk-toggleable__content {max-height: 200px;max-width: 100%;overflow: auto;}#sk-container-id-1 input.sk-toggleable__control:checked~label.sk-toggleable__label-arrow:before {content: \"▾\";}#sk-container-id-1 div.sk-estimator input.sk-toggleable__control:checked~label.sk-toggleable__label {background-color: #d4ebff;}#sk-container-id-1 div.sk-label input.sk-toggleable__control:checked~label.sk-toggleable__label {background-color: #d4ebff;}#sk-container-id-1 input.sk-hidden--visually {border: 0;clip: rect(1px 1px 1px 1px);clip: rect(1px, 1px, 1px, 1px);height: 1px;margin: -1px;overflow: hidden;padding: 0;position: absolute;width: 1px;}#sk-container-id-1 div.sk-estimator {font-family: monospace;background-color: #f0f8ff;border: 1px dotted black;border-radius: 0.25em;box-sizing: border-box;margin-bottom: 0.5em;}#sk-container-id-1 div.sk-estimator:hover {background-color: #d4ebff;}#sk-container-id-1 div.sk-parallel-item::after {content: \"\";width: 100%;border-bottom: 1px solid gray;flex-grow: 1;}#sk-container-id-1 div.sk-label:hover label.sk-toggleable__label {background-color: #d4ebff;}#sk-container-id-1 div.sk-serial::before {content: \"\";position: absolute;border-left: 1px solid gray;box-sizing: border-box;top: 0;bottom: 0;left: 50%;z-index: 0;}#sk-container-id-1 div.sk-serial {display: flex;flex-direction: column;align-items: center;background-color: white;padding-right: 0.2em;padding-left: 0.2em;position: relative;}#sk-container-id-1 div.sk-item {position: relative;z-index: 1;}#sk-container-id-1 div.sk-parallel {display: flex;align-items: stretch;justify-content: center;background-color: white;position: relative;}#sk-container-id-1 div.sk-item::before, #sk-container-id-1 div.sk-parallel-item::before {content: \"\";position: absolute;border-left: 1px solid gray;box-sizing: border-box;top: 0;bottom: 0;left: 50%;z-index: -1;}#sk-container-id-1 div.sk-parallel-item {display: flex;flex-direction: column;z-index: 1;position: relative;background-color: white;}#sk-container-id-1 div.sk-parallel-item:first-child::after {align-self: flex-end;width: 50%;}#sk-container-id-1 div.sk-parallel-item:last-child::after {align-self: flex-start;width: 50%;}#sk-container-id-1 div.sk-parallel-item:only-child::after {width: 0;}#sk-container-id-1 div.sk-dashed-wrapped {border: 1px dashed gray;margin: 0 0.4em 0.5em 0.4em;box-sizing: border-box;padding-bottom: 0.4em;background-color: white;}#sk-container-id-1 div.sk-label label {font-family: monospace;font-weight: bold;display: inline-block;line-height: 1.2em;}#sk-container-id-1 div.sk-label-container {text-align: center;}#sk-container-id-1 div.sk-container {/* jupyter's `normalize.less` sets `[hidden] { display: none; }` but bootstrap.min.css set `[hidden] { display: none !important; }` so we also need the `!important` here to be able to override the default hidden behavior on the sphinx rendered scikit-learn.org. See: https://github.com/scikit-learn/scikit-learn/issues/21755 */display: inline-block !important;position: relative;}#sk-container-id-1 div.sk-text-repr-fallback {display: none;}</style><div id=\"sk-container-id-1\" class=\"sk-top-container\"><div class=\"sk-text-repr-fallback\"><pre>LinearRegression()</pre><b>In a Jupyter environment, please rerun this cell to show the HTML representation or trust the notebook. <br />On GitHub, the HTML representation is unable to render, please try loading this page with nbviewer.org.</b></div><div class=\"sk-container\" hidden><div class=\"sk-item\"><div class=\"sk-estimator sk-toggleable\"><input class=\"sk-toggleable__control sk-hidden--visually\" id=\"sk-estimator-id-1\" type=\"checkbox\" checked><label for=\"sk-estimator-id-1\" class=\"sk-toggleable__label sk-toggleable__label-arrow\">LinearRegression</label><div class=\"sk-toggleable__content\"><pre>LinearRegression()</pre></div></div></div></div></div>"
      ],
      "text/plain": [
       "LinearRegression()"
      ]
     },
     "execution_count": 12,
     "metadata": {},
     "output_type": "execute_result"
    }
   ],
   "source": [
    "regressor=LinearRegression()\n",
    "regressor.fit(X_df[['Prev Close']],y_train)"
   ]
  },
  {
   "cell_type": "code",
   "execution_count": 13,
   "metadata": {},
   "outputs": [],
   "source": [
    "Xtest_df = pd.DataFrame(X_test, columns=[['Prev Close','Date']])"
   ]
  },
  {
   "cell_type": "code",
   "execution_count": 14,
   "metadata": {},
   "outputs": [],
   "source": [
    "y_pred=regressor.predict(Xtest_df[['Prev Close']])"
   ]
  },
  {
   "cell_type": "code",
   "execution_count": 15,
   "metadata": {},
   "outputs": [],
   "source": [
    "Xtest_df = pd.DataFrame(X_test, columns=[['Prev Close','Date']])\n",
    "y_preddf = pd.DataFrame(y_pred,columns=['Close'])\n",
    "y_testdf = pd.DataFrame(y_test,columns=['Close'])"
   ]
  },
  {
   "cell_type": "code",
   "execution_count": 16,
   "metadata": {},
   "outputs": [
    {
     "data": {
      "text/plain": [
       "0.9989838393211664"
      ]
     },
     "execution_count": 16,
     "metadata": {},
     "output_type": "execute_result"
    }
   ],
   "source": [
    "r2_score(y_test,y_pred)"
   ]
  },
  {
   "cell_type": "code",
   "execution_count": 17,
   "metadata": {},
   "outputs": [
    {
     "name": "stdout",
     "output_type": "stream",
     "text": [
      "      Prev Close       Date\n",
      "0         4742.0 2017-11-27\n",
      "1         260.75 2017-11-27\n",
      "2         1201.6 2017-11-27\n",
      "3        1009.55 2017-11-27\n",
      "4          305.9 2017-11-27\n",
      "...          ...        ...\n",
      "39802     2462.9 2021-04-30\n",
      "39803    2613.45 2021-04-30\n",
      "39804     419.55 2021-04-30\n",
      "39805     103.05 2021-04-30\n",
      "39806     621.45 2021-04-30\n",
      "\n",
      "[39807 rows x 2 columns]\n"
     ]
    }
   ],
   "source": [
    "print(Xtest_df)"
   ]
  },
  {
   "cell_type": "code",
   "execution_count": 18,
   "metadata": {},
   "outputs": [
    {
     "name": "stdout",
     "output_type": "stream",
     "text": [
      "[[4796.9 ]\n",
      " [ 259.25]\n",
      " [1194.7 ]\n",
      " ...\n",
      " [ 421.8 ]\n",
      " [ 102.45]\n",
      " [ 600.5 ]]\n"
     ]
    }
   ],
   "source": [
    "print(y_test)"
   ]
  },
  {
   "cell_type": "code",
   "execution_count": 19,
   "metadata": {},
   "outputs": [
    {
     "name": "stdout",
     "output_type": "stream",
     "text": [
      "[[4744.65040136]\n",
      " [ 260.82467471]\n",
      " [1202.21545517]\n",
      " ...\n",
      " [ 419.71594956]\n",
      " [ 103.03403212]\n",
      " [ 621.73199736]]\n"
     ]
    }
   ],
   "source": [
    "print(y_pred)"
   ]
  },
  {
   "cell_type": "code",
   "execution_count": 20,
   "metadata": {},
   "outputs": [
    {
     "name": "stdout",
     "output_type": "stream",
     "text": [
      "      Prev Close       Date\n",
      "0         4742.0 2017-11-27\n",
      "1         260.75 2017-11-27\n",
      "2         1201.6 2017-11-27\n",
      "3        1009.55 2017-11-27\n",
      "4          305.9 2017-11-27\n",
      "...          ...        ...\n",
      "39802     2462.9 2021-04-30\n",
      "39803    2613.45 2021-04-30\n",
      "39804     419.55 2021-04-30\n",
      "39805     103.05 2021-04-30\n",
      "39806     621.45 2021-04-30\n",
      "\n",
      "[39807 rows x 2 columns]\n"
     ]
    }
   ],
   "source": [
    "print(Xtest_df)"
   ]
  },
  {
   "cell_type": "code",
   "execution_count": 21,
   "metadata": {},
   "outputs": [],
   "source": [
    "X_plot = Xtest_df.iloc[:,-1:]\n",
    "X_plotdf = pd.DataFrame(X_plot,columns = [('Date',)])"
   ]
  },
  {
   "cell_type": "code",
   "execution_count": 22,
   "metadata": {},
   "outputs": [
    {
     "name": "stdout",
     "output_type": "stream",
     "text": [
      "            Date\n",
      "0     2017-11-27\n",
      "1     2017-11-27\n",
      "2     2017-11-27\n",
      "3     2017-11-27\n",
      "4     2017-11-27\n",
      "...          ...\n",
      "39802 2021-04-30\n",
      "39803 2021-04-30\n",
      "39804 2021-04-30\n",
      "39805 2021-04-30\n",
      "39806 2021-04-30\n",
      "\n",
      "[39807 rows x 1 columns]\n"
     ]
    }
   ],
   "source": [
    "print(X_plotdf)"
   ]
  },
  {
   "cell_type": "code",
   "execution_count": 23,
   "metadata": {},
   "outputs": [
    {
     "name": "stdout",
     "output_type": "stream",
     "text": [
      "(39807, 1)\n",
      "(39807, 1)\n"
     ]
    }
   ],
   "source": [
    "\n",
    "print(X_plotdf.shape)\n",
    "print(y_testdf.shape)"
   ]
  },
  {
   "cell_type": "code",
   "execution_count": 24,
   "metadata": {},
   "outputs": [],
   "source": [
    "new_df = pd.merge(X_plotdf, y_preddf, left_index=True, right_index=True)\n",
    "old_df = pd.merge(X_plotdf, y_testdf, left_index=True, right_index=True)"
   ]
  },
  {
   "cell_type": "code",
   "execution_count": 25,
   "metadata": {},
   "outputs": [],
   "source": [
    "new_df = new_df.rename(columns = {('Date',):'Date'})\n",
    "old_df = old_df.rename(columns = {('Date',):'Date'})\n",
    "new_df = new_df.rename(columns={('Close'):'Predicted Price'})\n",
    "old_df = old_df.rename(columns={('Close'):'Actual Price'})"
   ]
  },
  {
   "cell_type": "code",
   "execution_count": 26,
   "metadata": {},
   "outputs": [
    {
     "name": "stdout",
     "output_type": "stream",
     "text": [
      "            Date  Actual Price\n",
      "0     2017-11-27       4796.90\n",
      "1     2017-11-27        259.25\n",
      "2     2017-11-27       1194.70\n",
      "3     2017-11-27        998.75\n",
      "4     2017-11-27        305.25\n",
      "...          ...           ...\n",
      "39802 2021-04-30       2421.65\n",
      "39803 2021-04-30       2536.40\n",
      "39804 2021-04-30        421.80\n",
      "39805 2021-04-30        102.45\n",
      "39806 2021-04-30        600.50\n",
      "\n",
      "[39807 rows x 2 columns]\n"
     ]
    }
   ],
   "source": [
    "print(old_df)"
   ]
  },
  {
   "cell_type": "code",
   "execution_count": 27,
   "metadata": {},
   "outputs": [
    {
     "name": "stdout",
     "output_type": "stream",
     "text": [
      "            Date  Predicted Price\n",
      "0     2017-11-27      4744.650401\n",
      "1     2017-11-27       260.824675\n",
      "2     2017-11-27      1202.215455\n",
      "3     2017-11-27      1010.055069\n",
      "4     2017-11-27       306.000626\n",
      "...          ...              ...\n",
      "39802 2021-04-30      2464.240423\n",
      "39803 2021-04-30      2614.876956\n",
      "39804 2021-04-30       419.715950\n",
      "39805 2021-04-30       103.034032\n",
      "39806 2021-04-30       621.731997\n",
      "\n",
      "[39807 rows x 2 columns]\n"
     ]
    }
   ],
   "source": [
    "print(new_df)"
   ]
  },
  {
   "cell_type": "code",
   "execution_count": 28,
   "metadata": {},
   "outputs": [
    {
     "data": {
      "text/html": [
       "<div>\n",
       "<style scoped>\n",
       "    .dataframe tbody tr th:only-of-type {\n",
       "        vertical-align: middle;\n",
       "    }\n",
       "\n",
       "    .dataframe tbody tr th {\n",
       "        vertical-align: top;\n",
       "    }\n",
       "\n",
       "    .dataframe thead th {\n",
       "        text-align: right;\n",
       "    }\n",
       "</style>\n",
       "<table border=\"1\" class=\"dataframe\">\n",
       "  <thead>\n",
       "    <tr style=\"text-align: right;\">\n",
       "      <th></th>\n",
       "      <th>Date</th>\n",
       "      <th>Predicted Price</th>\n",
       "    </tr>\n",
       "  </thead>\n",
       "  <tbody>\n",
       "    <tr>\n",
       "      <th>count</th>\n",
       "      <td>39807</td>\n",
       "      <td>39807.000000</td>\n",
       "    </tr>\n",
       "    <tr>\n",
       "      <th>mean</th>\n",
       "      <td>2019-08-14 07:28:09.984173824</td>\n",
       "      <td>2407.151064</td>\n",
       "    </tr>\n",
       "    <tr>\n",
       "      <th>min</th>\n",
       "      <td>2017-11-27 00:00:00</td>\n",
       "      <td>59.959288</td>\n",
       "    </tr>\n",
       "    <tr>\n",
       "      <th>25%</th>\n",
       "      <td>2018-10-04 00:00:00</td>\n",
       "      <td>332.665944</td>\n",
       "    </tr>\n",
       "    <tr>\n",
       "      <th>50%</th>\n",
       "      <td>2019-08-14 00:00:00</td>\n",
       "      <td>787.627296</td>\n",
       "    </tr>\n",
       "    <tr>\n",
       "      <th>75%</th>\n",
       "      <td>2020-06-26 00:00:00</td>\n",
       "      <td>2196.586670</td>\n",
       "    </tr>\n",
       "    <tr>\n",
       "      <th>max</th>\n",
       "      <td>2021-04-30 00:00:00</td>\n",
       "      <td>31766.923304</td>\n",
       "    </tr>\n",
       "    <tr>\n",
       "      <th>std</th>\n",
       "      <td>NaN</td>\n",
       "      <td>4503.728553</td>\n",
       "    </tr>\n",
       "  </tbody>\n",
       "</table>\n",
       "</div>"
      ],
      "text/plain": [
       "                                Date  Predicted Price\n",
       "count                          39807     39807.000000\n",
       "mean   2019-08-14 07:28:09.984173824      2407.151064\n",
       "min              2017-11-27 00:00:00        59.959288\n",
       "25%              2018-10-04 00:00:00       332.665944\n",
       "50%              2019-08-14 00:00:00       787.627296\n",
       "75%              2020-06-26 00:00:00      2196.586670\n",
       "max              2021-04-30 00:00:00     31766.923304\n",
       "std                              NaN      4503.728553"
      ]
     },
     "execution_count": 28,
     "metadata": {},
     "output_type": "execute_result"
    }
   ],
   "source": [
    "new_df.describe()"
   ]
  },
  {
   "cell_type": "code",
   "execution_count": 29,
   "metadata": {},
   "outputs": [
    {
     "data": {
      "image/png": "[encoded data removed]",
      "text/plain": [
       "<Figure size 640x480 with 1 Axes>"
      ]
     },
     "metadata": {},
     "output_type": "display_data"
    }
   ],
   "source": [
    "old_df.set_index('Date', inplace=True)\n",
    "new_df.set_index('Date',inplace=True)\n",
    "# ax = old_df.plot(color='red')\n",
    "new_df.plot(color='blue')\n",
    "plt.title('Price Comparison')\n",
    "plt.xlabel('Date')\n",
    "plt.ylabel('Price')\n",
    "plt.show()"
   ]
  },
  {
   "cell_type": "code",
   "execution_count": null,
   "metadata": {},
   "outputs": [],
   "source": []
  }
 ],
 "metadata": {
  "kernelspec": {
   "display_name": "Python 3",
   "language": "python",
   "name": "python3"
  },
  "language_info": {
   "codemirror_mode": {
    "name": "ipython",
    "version": 3
   },
   "file_extension": ".py",
   "mimetype": "text/x-python",
   "name": "python",
   "nbconvert_exporter": "python",
   "pygments_lexer": "ipython3",
   "version": "3.10.6"
  },
  "orig_nbformat": 4,
  "vscode": {
   "interpreter": {
    "hash": "916dbcbb3f70747c44a77c7bcd40155683ae19c65e1c03b4aa3499c5328201f1"
   }
  }
 },
 "nbformat": 4,
 "nbformat_minor": 2
}
