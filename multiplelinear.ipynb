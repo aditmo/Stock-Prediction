{
 "cells": [
  {
   "cell_type": "code",
   "execution_count": 1,
   "metadata": {},
   "outputs": [],
   "source": [
    "import os\n",
    "import pandas as pd\n",
    "from sklearn.model_selection import train_test_split\n",
    "from sklearn.linear_model import LinearRegression\n",
    "from sklearn.metrics import r2_score\n",
    "import matplotlib.pyplot as plt\n",
    "import numpy as np\n",
    "import datetime"
   ]
  },
  {
   "cell_type": "code",
   "execution_count": 2,
   "metadata": {},
   "outputs": [
    {
     "data": {
      "text/plain": [
       "Date                     0\n",
       "Symbol                   0\n",
       "Series                   0\n",
       "Prev Close               0\n",
       "Open                     0\n",
       "High                     0\n",
       "Low                      0\n",
       "Last                     0\n",
       "Close                    0\n",
       "VWAP                     0\n",
       "Volume                   0\n",
       "Turnover                 0\n",
       "Trades                2850\n",
       "Deliverable Volume     528\n",
       "%Deliverble            528\n",
       "dtype: int64"
      ]
     },
     "execution_count": 2,
     "metadata": {},
     "output_type": "execute_result"
    }
   ],
   "source": [
    "df = pd.read_csv('SUNPHARMA.csv')\n",
    "\n",
    "df.isnull().sum()"
   ]
  },
  {
   "cell_type": "code",
   "execution_count": 3,
   "metadata": {},
   "outputs": [],
   "source": [
    "df['Date'] = pd.to_datetime(df['Date'])"
   ]
  },
  {
   "cell_type": "code",
   "execution_count": 4,
   "metadata": {},
   "outputs": [],
   "source": [
    "df = df[df[\"Date\"] >= \"2019-01-01\"]"
   ]
  },
  {
   "cell_type": "code",
   "execution_count": 5,
   "metadata": {},
   "outputs": [
    {
     "data": {
      "text/html": [
       "<div>\n",
       "<style scoped>\n",
       "    .dataframe tbody tr th:only-of-type {\n",
       "        vertical-align: middle;\n",
       "    }\n",
       "\n",
       "    .dataframe tbody tr th {\n",
       "        vertical-align: top;\n",
       "    }\n",
       "\n",
       "    .dataframe thead th {\n",
       "        text-align: right;\n",
       "    }\n",
       "</style>\n",
       "<table border=\"1\" class=\"dataframe\">\n",
       "  <thead>\n",
       "    <tr style=\"text-align: right;\">\n",
       "      <th></th>\n",
       "      <th>Date</th>\n",
       "      <th>Symbol</th>\n",
       "      <th>Series</th>\n",
       "      <th>Prev Close</th>\n",
       "      <th>Open</th>\n",
       "      <th>High</th>\n",
       "      <th>Low</th>\n",
       "      <th>Last</th>\n",
       "      <th>Close</th>\n",
       "      <th>VWAP</th>\n",
       "      <th>Volume</th>\n",
       "      <th>Turnover</th>\n",
       "      <th>Trades</th>\n",
       "      <th>Deliverable Volume</th>\n",
       "      <th>%Deliverble</th>\n",
       "    </tr>\n",
       "  </thead>\n",
       "  <tbody>\n",
       "    <tr>\n",
       "      <th>4729</th>\n",
       "      <td>2019-01-01</td>\n",
       "      <td>SUNPHARMA</td>\n",
       "      <td>EQ</td>\n",
       "      <td>430.50</td>\n",
       "      <td>432.50</td>\n",
       "      <td>438.8</td>\n",
       "      <td>429.65</td>\n",
       "      <td>432.70</td>\n",
       "      <td>433.55</td>\n",
       "      <td>435.01</td>\n",
       "      <td>8487116</td>\n",
       "      <td>3.691997e+14</td>\n",
       "      <td>91786.0</td>\n",
       "      <td>1524951.0</td>\n",
       "      <td>0.1797</td>\n",
       "    </tr>\n",
       "    <tr>\n",
       "      <th>4730</th>\n",
       "      <td>2019-01-02</td>\n",
       "      <td>SUNPHARMA</td>\n",
       "      <td>EQ</td>\n",
       "      <td>433.55</td>\n",
       "      <td>430.50</td>\n",
       "      <td>441.2</td>\n",
       "      <td>429.25</td>\n",
       "      <td>439.95</td>\n",
       "      <td>440.05</td>\n",
       "      <td>435.70</td>\n",
       "      <td>9656878</td>\n",
       "      <td>4.207479e+14</td>\n",
       "      <td>100434.0</td>\n",
       "      <td>3755920.0</td>\n",
       "      <td>0.3889</td>\n",
       "    </tr>\n",
       "    <tr>\n",
       "      <th>4731</th>\n",
       "      <td>2019-01-03</td>\n",
       "      <td>SUNPHARMA</td>\n",
       "      <td>EQ</td>\n",
       "      <td>440.05</td>\n",
       "      <td>442.05</td>\n",
       "      <td>443.6</td>\n",
       "      <td>434.00</td>\n",
       "      <td>434.90</td>\n",
       "      <td>436.10</td>\n",
       "      <td>439.97</td>\n",
       "      <td>9479511</td>\n",
       "      <td>4.170669e+14</td>\n",
       "      <td>112961.0</td>\n",
       "      <td>2912917.0</td>\n",
       "      <td>0.3073</td>\n",
       "    </tr>\n",
       "    <tr>\n",
       "      <th>4732</th>\n",
       "      <td>2019-01-04</td>\n",
       "      <td>SUNPHARMA</td>\n",
       "      <td>EQ</td>\n",
       "      <td>436.10</td>\n",
       "      <td>439.10</td>\n",
       "      <td>439.9</td>\n",
       "      <td>432.20</td>\n",
       "      <td>433.40</td>\n",
       "      <td>433.80</td>\n",
       "      <td>435.62</td>\n",
       "      <td>6228693</td>\n",
       "      <td>2.713361e+14</td>\n",
       "      <td>81360.0</td>\n",
       "      <td>1392009.0</td>\n",
       "      <td>0.2235</td>\n",
       "    </tr>\n",
       "    <tr>\n",
       "      <th>4733</th>\n",
       "      <td>2019-01-07</td>\n",
       "      <td>SUNPHARMA</td>\n",
       "      <td>EQ</td>\n",
       "      <td>433.80</td>\n",
       "      <td>437.10</td>\n",
       "      <td>438.0</td>\n",
       "      <td>429.30</td>\n",
       "      <td>430.85</td>\n",
       "      <td>430.80</td>\n",
       "      <td>433.19</td>\n",
       "      <td>4118235</td>\n",
       "      <td>1.783964e+14</td>\n",
       "      <td>64152.0</td>\n",
       "      <td>1444774.0</td>\n",
       "      <td>0.3508</td>\n",
       "    </tr>\n",
       "  </tbody>\n",
       "</table>\n",
       "</div>"
      ],
      "text/plain": [
       "           Date     Symbol Series  Prev Close    Open   High     Low    Last   \n",
       "4729 2019-01-01  SUNPHARMA     EQ      430.50  432.50  438.8  429.65  432.70  \\\n",
       "4730 2019-01-02  SUNPHARMA     EQ      433.55  430.50  441.2  429.25  439.95   \n",
       "4731 2019-01-03  SUNPHARMA     EQ      440.05  442.05  443.6  434.00  434.90   \n",
       "4732 2019-01-04  SUNPHARMA     EQ      436.10  439.10  439.9  432.20  433.40   \n",
       "4733 2019-01-07  SUNPHARMA     EQ      433.80  437.10  438.0  429.30  430.85   \n",
       "\n",
       "       Close    VWAP   Volume      Turnover    Trades  Deliverable Volume   \n",
       "4729  433.55  435.01  8487116  3.691997e+14   91786.0           1524951.0  \\\n",
       "4730  440.05  435.70  9656878  4.207479e+14  100434.0           3755920.0   \n",
       "4731  436.10  439.97  9479511  4.170669e+14  112961.0           2912917.0   \n",
       "4732  433.80  435.62  6228693  2.713361e+14   81360.0           1392009.0   \n",
       "4733  430.80  433.19  4118235  1.783964e+14   64152.0           1444774.0   \n",
       "\n",
       "      %Deliverble  \n",
       "4729       0.1797  \n",
       "4730       0.3889  \n",
       "4731       0.3073  \n",
       "4732       0.2235  \n",
       "4733       0.3508  "
      ]
     },
     "execution_count": 5,
     "metadata": {},
     "output_type": "execute_result"
    }
   ],
   "source": [
    "df.head()"
   ]
  },
  {
   "cell_type": "code",
   "execution_count": 6,
   "metadata": {},
   "outputs": [],
   "source": [
    "X = df[['Prev Close','Date','High','Low','Open']].values\n",
    "y = df[['Close']].values"
   ]
  },
  {
   "cell_type": "code",
   "execution_count": 7,
   "metadata": {},
   "outputs": [
    {
     "data": {
      "text/plain": [
       "(577, 5)"
      ]
     },
     "execution_count": 7,
     "metadata": {},
     "output_type": "execute_result"
    }
   ],
   "source": [
    "X.shape"
   ]
  },
  {
   "cell_type": "code",
   "execution_count": 8,
   "metadata": {},
   "outputs": [],
   "source": [
    "X=X.reshape(-1,5)"
   ]
  },
  {
   "cell_type": "code",
   "execution_count": 9,
   "metadata": {},
   "outputs": [
    {
     "name": "stdout",
     "output_type": "stream",
     "text": [
      "(577, 5)\n"
     ]
    }
   ],
   "source": [
    "print(X.shape)"
   ]
  },
  {
   "cell_type": "code",
   "execution_count": 10,
   "metadata": {},
   "outputs": [
    {
     "name": "stdout",
     "output_type": "stream",
     "text": [
      "(577, 1)\n"
     ]
    }
   ],
   "source": [
    "print(y.shape)"
   ]
  },
  {
   "cell_type": "code",
   "execution_count": 11,
   "metadata": {},
   "outputs": [],
   "source": [
    "X_train,X_test,y_train,y_test=train_test_split(X,y,test_size=0.2,random_state=0)"
   ]
  },
  {
   "cell_type": "code",
   "execution_count": 12,
   "metadata": {},
   "outputs": [
    {
     "name": "stdout",
     "output_type": "stream",
     "text": [
      "[[429.05 Timestamp('2019-12-18 00:00:00') 441.4 427.3 430.0]\n",
      " [465.55 Timestamp('2019-04-12 00:00:00') 468.5 462.3 467.0]\n",
      " [564.35 Timestamp('2021-01-29 00:00:00') 600.0 554.1 568.0]\n",
      " ...\n",
      " [485.65 Timestamp('2020-06-18 00:00:00') 488.5 483.0 485.65]\n",
      " [394.65 Timestamp('2019-10-15 00:00:00') 400.0 392.25 397.2]\n",
      " [610.75 Timestamp('2021-04-05 00:00:00') 611.95 592.75 611.7]]\n"
     ]
    }
   ],
   "source": [
    "print(X_train)"
   ]
  },
  {
   "cell_type": "code",
   "execution_count": 13,
   "metadata": {},
   "outputs": [
    {
     "name": "stdout",
     "output_type": "stream",
     "text": [
      "[[416.75 Timestamp('2019-08-28 00:00:00') 421.7 411.5 416.9]\n",
      " [508.85 Timestamp('2020-09-23 00:00:00') 521.0 498.25 520.5]\n",
      " [447.8 Timestamp('2020-01-27 00:00:00') 451.75 442.2 447.0]\n",
      " [552.55 Timestamp('2020-12-22 00:00:00') 571.1 540.4 553.0]\n",
      " [463.9 Timestamp('2020-05-13 00:00:00') 469.45 450.2 469.0]\n",
      " [574.55 Timestamp('2021-03-19 00:00:00') 582.65 562.1 571.0]\n",
      " [419.45 Timestamp('2019-05-15 00:00:00') 424.5 407.1 420.0]\n",
      " [422.1 Timestamp('2019-11-11 00:00:00') 423.3 407.1 415.0]\n",
      " [473.4 Timestamp('2020-04-21 00:00:00') 490.7 464.25 467.85]\n",
      " [582.3 Timestamp('2020-12-08 00:00:00') 582.0 565.8 582.0]\n",
      " [502.2 Timestamp('2020-10-15 00:00:00') 504.7 489.0 504.7]\n",
      " [421.2 Timestamp('2019-05-23 00:00:00') 427.0 410.2 425.0]\n",
      " [646.05 Timestamp('2021-04-19 00:00:00') 651.4 635.0 644.0]\n",
      " [454.4 Timestamp('2020-05-07 00:00:00') 465.7 450.2 462.0]\n",
      " [469.7 Timestamp('2019-04-03 00:00:00') 473.9 459.15 471.0]\n",
      " [440.7 Timestamp('2020-05-19 00:00:00') 456.0 438.6 443.8]\n",
      " [604.45 Timestamp('2021-03-02 00:00:00') 616.35 604.5 609.0]\n",
      " [463.2 Timestamp('2019-04-22 00:00:00') 465.05 452.4 464.0]\n",
      " [609.65 Timestamp('2021-01-13 00:00:00') 614.5 597.25 611.0]\n",
      " [455.95 Timestamp('2020-05-15 00:00:00') 458.9 445.55 455.95]\n",
      " [614.2 Timestamp('2021-03-03 00:00:00') 625.4 612.25 616.5]\n",
      " [495.1 Timestamp('2020-07-16 00:00:00') 505.95 490.6 496.0]\n",
      " [439.95 Timestamp('2019-07-29 00:00:00') 441.7 429.2 440.0]\n",
      " [404.95 Timestamp('2020-02-24 00:00:00') 414.65 395.8 406.5]\n",
      " [434.3 Timestamp('2020-01-02 00:00:00') 442.6 432.0 434.0]\n",
      " [476.0 Timestamp('2020-07-24 00:00:00') 497.8 481.25 490.0]\n",
      " [521.05 Timestamp('2020-10-07 00:00:00') 522.9 509.2 516.1]\n",
      " [409.85 Timestamp('2019-06-03 00:00:00') 418.6 407.5 411.0]\n",
      " [477.45 Timestamp('2020-04-24 00:00:00') 497.0 473.55 476.95]\n",
      " [436.7 Timestamp('2020-04-09 00:00:00') 473.9 443.4 454.4]\n",
      " [487.65 Timestamp('2020-06-26 00:00:00') 491.0 472.2 490.25]\n",
      " [428.6 Timestamp('2019-12-09 00:00:00') 434.6 423.6 431.85]\n",
      " [453.8 Timestamp('2019-01-17 00:00:00') 455.4 422.5 455.0]\n",
      " [448.6 Timestamp('2020-05-18 00:00:00') 454.6 434.25 447.0]\n",
      " [629.2 Timestamp('2021-02-04 00:00:00') 641.0 626.25 632.5]\n",
      " [388.15 Timestamp('2019-10-04 00:00:00') 394.0 384.2 389.0]\n",
      " [436.6 Timestamp('2019-02-13 00:00:00') 455.0 426.45 454.9]\n",
      " [532.15 Timestamp('2020-08-13 00:00:00') 535.95 519.05 532.15]\n",
      " [450.9 Timestamp('2020-05-28 00:00:00') 461.65 444.7 453.9]\n",
      " [422.35 Timestamp('2019-02-21 00:00:00') 432.0 422.7 425.2]\n",
      " [390.75 Timestamp('2019-01-21 00:00:00') 406.55 390.05 390.1]\n",
      " [437.95 Timestamp('2019-11-05 00:00:00') 439.8 424.05 435.5]\n",
      " [639.25 Timestamp('2021-04-28 00:00:00') 647.3 638.3 640.95]\n",
      " [510.1 Timestamp('2020-09-29 00:00:00') 517.85 504.5 517.85]\n",
      " [433.55 Timestamp('2019-01-02 00:00:00') 441.2 429.25 430.5]\n",
      " [449.85 Timestamp('2019-12-02 00:00:00') 449.6 437.0 449.0]\n",
      " [484.5 Timestamp('2020-10-26 00:00:00') 487.4 471.1 487.4]\n",
      " [379.9 Timestamp('2019-10-09 00:00:00') 387.75 374.2 378.0]\n",
      " [482.0 Timestamp('2020-06-30 00:00:00') 483.95 469.8 483.4]\n",
      " [633.25 Timestamp('2021-04-16 00:00:00') 650.0 626.35 633.25]\n",
      " [543.85 Timestamp('2020-08-11 00:00:00') 549.6 535.1 548.0]\n",
      " [398.3 Timestamp('2019-01-22 00:00:00') 423.5 409.4 411.0]\n",
      " [502.9 Timestamp('2020-09-24 00:00:00') 501.25 483.0 497.5]\n",
      " [613.6 Timestamp('2021-03-15 00:00:00') 614.0 596.5 614.0]\n",
      " [525.4 Timestamp('2020-08-20 00:00:00') 529.9 521.05 524.5]\n",
      " [594.7 Timestamp('2021-01-21 00:00:00') 598.75 580.65 598.0]\n",
      " [420.9 Timestamp('2019-08-21 00:00:00') 425.85 413.6 421.0]\n",
      " [533.45 Timestamp('2020-08-25 00:00:00') 535.15 523.45 533.6]\n",
      " [513.25 Timestamp('2020-09-08 00:00:00') 517.65 498.65 512.0]\n",
      " [463.4 Timestamp('2020-10-29 00:00:00') 464.0 452.25 463.0]\n",
      " [450.85 Timestamp('2019-01-15 00:00:00') 454.5 449.5 453.25]\n",
      " [485.6 Timestamp('2020-07-27 00:00:00') 487.6 469.0 484.85]\n",
      " [532.25 Timestamp('2020-08-07 00:00:00') 535.45 522.6 532.3]\n",
      " [417.35 Timestamp('2020-04-08 00:00:00') 448.75 413.15 419.0]\n",
      " [634.65 Timestamp('2021-02-09 00:00:00') 639.25 621.0 631.9]\n",
      " [437.55 Timestamp('2019-11-04 00:00:00') 442.4 433.65 439.95]\n",
      " [448.4 Timestamp('2020-01-28 00:00:00') 462.5 448.05 448.25]\n",
      " [602.3 Timestamp('2021-03-17 00:00:00') 604.0 582.0 604.0]\n",
      " [574.6 Timestamp('2020-12-24 00:00:00') 595.0 572.15 574.6]\n",
      " [421.45 Timestamp('2019-11-13 00:00:00') 426.9 410.0 420.0]\n",
      " [569.8 Timestamp('2021-01-28 00:00:00') 574.5 550.4 554.9]\n",
      " [428.4 Timestamp('2019-12-24 00:00:00') 432.45 425.4 428.0]\n",
      " [426.25 Timestamp('2020-02-06 00:00:00') 438.0 424.0 428.2]\n",
      " [523.45 Timestamp('2020-09-04 00:00:00') 530.4 508.25 518.0]\n",
      " [375.25 Timestamp('2019-07-08 00:00:00') 380.9 365.4 375.0]\n",
      " [576.25 Timestamp('2020-12-15 00:00:00') 580.0 569.0 575.0]\n",
      " [418.55 Timestamp('2020-02-12 00:00:00') 421.3 414.0 418.8]\n",
      " [360.4 Timestamp('2020-03-20 00:00:00') 379.5 362.2 365.2]\n",
      " [569.55 Timestamp('2020-12-10 00:00:00') 574.75 560.1 570.0]\n",
      " [519.4 Timestamp('2020-08-04 00:00:00') 532.4 517.25 522.0]\n",
      " [465.6 Timestamp('2019-04-05 00:00:00') 470.0 461.5 467.1]\n",
      " [500.75 Timestamp('2020-06-10 00:00:00') 507.0 493.55 502.5]\n",
      " [431.0 Timestamp('2019-01-24 00:00:00') 438.0 417.1 431.0]\n",
      " [520.8 Timestamp('2020-08-14 00:00:00') 536.0 522.0 523.5]\n",
      " [465.4 Timestamp('2020-06-02 00:00:00') 481.0 468.15 470.0]\n",
      " [455.9 Timestamp('2019-03-06 00:00:00') 469.35 446.95 457.0]\n",
      " [511.65 Timestamp('2020-12-01 00:00:00') 542.75 512.65 518.0]\n",
      " [595.3 Timestamp('2021-02-23 00:00:00') 608.35 592.0 595.0]\n",
      " [427.0 Timestamp('2019-12-10 00:00:00') 435.75 425.3 429.6]\n",
      " [343.55 Timestamp('2020-04-03 00:00:00') 389.8 340.0 343.95]\n",
      " [473.1 Timestamp('2020-06-03 00:00:00') 481.6 473.0 474.95]\n",
      " [480.2 Timestamp('2020-07-07 00:00:00') 486.0 476.15 480.0]\n",
      " [469.35 Timestamp('2019-04-25 00:00:00') 474.6 459.5 465.25]\n",
      " [407.7 Timestamp('2019-07-15 00:00:00') 427.7 413.65 416.25]\n",
      " [410.2 Timestamp('2019-11-15 00:00:00') 418.9 410.15 412.75]\n",
      " [401.65 Timestamp('2019-10-22 00:00:00') 408.0 400.95 402.0]\n",
      " [512.45 Timestamp('2020-09-07 00:00:00') 518.2 504.25 516.0]\n",
      " [398.1 Timestamp('2019-05-14 00:00:00') 424.5 403.25 406.05]\n",
      " [488.1 Timestamp('2020-06-22 00:00:00') 501.2 486.0 492.2]\n",
      " [432.55 Timestamp('2020-01-01 00:00:00') 436.45 431.25 432.95]\n",
      " [421.95 Timestamp('2019-10-30 00:00:00') 432.55 418.1 426.95]\n",
      " [460.55 Timestamp('2019-03-07 00:00:00') 463.0 448.8 459.5]\n",
      " [414.55 Timestamp('2019-08-23 00:00:00') 429.95 408.9 415.0]\n",
      " [604.05 Timestamp('2021-02-24 00:00:00') 609.35 595.85 607.1]\n",
      " [412.4 Timestamp('2019-05-17 00:00:00') 416.0 401.7 409.05]\n",
      " [387.05 Timestamp('2019-10-11 00:00:00') 389.35 381.5 387.4]\n",
      " [422.4 Timestamp('2019-01-30 00:00:00') 426.0 416.2 424.0]\n",
      " [618.95 Timestamp('2021-03-05 00:00:00') 619.45 606.9 619.45]\n",
      " [397.85 Timestamp('2020-02-25 00:00:00') 402.4 385.3 402.4]\n",
      " [494.25 Timestamp('2020-06-08 00:00:00') 498.75 485.05 498.75]\n",
      " [403.55 Timestamp('2020-02-20 00:00:00') 411.5 403.55 403.85]\n",
      " [399.25 Timestamp('2019-06-10 00:00:00') 405.8 394.05 402.0]\n",
      " [400.95 Timestamp('2019-07-01 00:00:00') 406.5 401.5 402.0]\n",
      " [449.85 Timestamp('2020-01-24 00:00:00') 452.85 446.8 450.0]\n",
      " [584.0 Timestamp('2020-12-31 00:00:00') 594.9 582.05 584.65]\n",
      " [523.1 Timestamp('2020-10-06 00:00:00') 527.6 519.0 526.0]]\n"
     ]
    }
   ],
   "source": [
    "print(X_test)"
   ]
  },
  {
   "cell_type": "code",
   "execution_count": 14,
   "metadata": {},
   "outputs": [],
   "source": [
    "X_df = pd.DataFrame(X_train, columns=[['Prev Close','Date','High','Low','Open']])\n",
    "y_df = pd.DataFrame(y_train, columns=['Close'])"
   ]
  },
  {
   "cell_type": "code",
   "execution_count": 15,
   "metadata": {},
   "outputs": [
    {
     "name": "stdout",
     "output_type": "stream",
     "text": [
      "    Prev Close\n",
      "0       429.05\n",
      "1       465.55\n",
      "2       564.35\n",
      "3       412.75\n",
      "4        446.4\n",
      "..         ...\n",
      "456      414.6\n",
      "457      444.4\n",
      "458     485.65\n",
      "459     394.65\n",
      "460     610.75\n",
      "\n",
      "[461 rows x 1 columns]\n"
     ]
    }
   ],
   "source": [
    "print(X_df['Prev Close'])"
   ]
  },
  {
   "cell_type": "code",
   "execution_count": 16,
   "metadata": {},
   "outputs": [
    {
     "data": {
      "text/html": [
       "<style>#sk-container-id-1 {color: black;background-color: white;}#sk-container-id-1 pre{padding: 0;}#sk-container-id-1 div.sk-toggleable {background-color: white;}#sk-container-id-1 label.sk-toggleable__label {cursor: pointer;display: block;width: 100%;margin-bottom: 0;padding: 0.3em;box-sizing: border-box;text-align: center;}#sk-container-id-1 label.sk-toggleable__label-arrow:before {content: \"▸\";float: left;margin-right: 0.25em;color: #696969;}#sk-container-id-1 label.sk-toggleable__label-arrow:hover:before {color: black;}#sk-container-id-1 div.sk-estimator:hover label.sk-toggleable__label-arrow:before {color: black;}#sk-container-id-1 div.sk-toggleable__content {max-height: 0;max-width: 0;overflow: hidden;text-align: left;background-color: #f0f8ff;}#sk-container-id-1 div.sk-toggleable__content pre {margin: 0.2em;color: black;border-radius: 0.25em;background-color: #f0f8ff;}#sk-container-id-1 input.sk-toggleable__control:checked~div.sk-toggleable__content {max-height: 200px;max-width: 100%;overflow: auto;}#sk-container-id-1 input.sk-toggleable__control:checked~label.sk-toggleable__label-arrow:before {content: \"▾\";}#sk-container-id-1 div.sk-estimator input.sk-toggleable__control:checked~label.sk-toggleable__label {background-color: #d4ebff;}#sk-container-id-1 div.sk-label input.sk-toggleable__control:checked~label.sk-toggleable__label {background-color: #d4ebff;}#sk-container-id-1 input.sk-hidden--visually {border: 0;clip: rect(1px 1px 1px 1px);clip: rect(1px, 1px, 1px, 1px);height: 1px;margin: -1px;overflow: hidden;padding: 0;position: absolute;width: 1px;}#sk-container-id-1 div.sk-estimator {font-family: monospace;background-color: #f0f8ff;border: 1px dotted black;border-radius: 0.25em;box-sizing: border-box;margin-bottom: 0.5em;}#sk-container-id-1 div.sk-estimator:hover {background-color: #d4ebff;}#sk-container-id-1 div.sk-parallel-item::after {content: \"\";width: 100%;border-bottom: 1px solid gray;flex-grow: 1;}#sk-container-id-1 div.sk-label:hover label.sk-toggleable__label {background-color: #d4ebff;}#sk-container-id-1 div.sk-serial::before {content: \"\";position: absolute;border-left: 1px solid gray;box-sizing: border-box;top: 0;bottom: 0;left: 50%;z-index: 0;}#sk-container-id-1 div.sk-serial {display: flex;flex-direction: column;align-items: center;background-color: white;padding-right: 0.2em;padding-left: 0.2em;position: relative;}#sk-container-id-1 div.sk-item {position: relative;z-index: 1;}#sk-container-id-1 div.sk-parallel {display: flex;align-items: stretch;justify-content: center;background-color: white;position: relative;}#sk-container-id-1 div.sk-item::before, #sk-container-id-1 div.sk-parallel-item::before {content: \"\";position: absolute;border-left: 1px solid gray;box-sizing: border-box;top: 0;bottom: 0;left: 50%;z-index: -1;}#sk-container-id-1 div.sk-parallel-item {display: flex;flex-direction: column;z-index: 1;position: relative;background-color: white;}#sk-container-id-1 div.sk-parallel-item:first-child::after {align-self: flex-end;width: 50%;}#sk-container-id-1 div.sk-parallel-item:last-child::after {align-self: flex-start;width: 50%;}#sk-container-id-1 div.sk-parallel-item:only-child::after {width: 0;}#sk-container-id-1 div.sk-dashed-wrapped {border: 1px dashed gray;margin: 0 0.4em 0.5em 0.4em;box-sizing: border-box;padding-bottom: 0.4em;background-color: white;}#sk-container-id-1 div.sk-label label {font-family: monospace;font-weight: bold;display: inline-block;line-height: 1.2em;}#sk-container-id-1 div.sk-label-container {text-align: center;}#sk-container-id-1 div.sk-container {/* jupyter's `normalize.less` sets `[hidden] { display: none; }` but bootstrap.min.css set `[hidden] { display: none !important; }` so we also need the `!important` here to be able to override the default hidden behavior on the sphinx rendered scikit-learn.org. See: https://github.com/scikit-learn/scikit-learn/issues/21755 */display: inline-block !important;position: relative;}#sk-container-id-1 div.sk-text-repr-fallback {display: none;}</style><div id=\"sk-container-id-1\" class=\"sk-top-container\"><div class=\"sk-text-repr-fallback\"><pre>LinearRegression()</pre><b>In a Jupyter environment, please rerun this cell to show the HTML representation or trust the notebook. <br />On GitHub, the HTML representation is unable to render, please try loading this page with nbviewer.org.</b></div><div class=\"sk-container\" hidden><div class=\"sk-item\"><div class=\"sk-estimator sk-toggleable\"><input class=\"sk-toggleable__control sk-hidden--visually\" id=\"sk-estimator-id-1\" type=\"checkbox\" checked><label for=\"sk-estimator-id-1\" class=\"sk-toggleable__label sk-toggleable__label-arrow\">LinearRegression</label><div class=\"sk-toggleable__content\"><pre>LinearRegression()</pre></div></div></div></div></div>"
      ],
      "text/plain": [
       "LinearRegression()"
      ]
     },
     "execution_count": 16,
     "metadata": {},
     "output_type": "execute_result"
    }
   ],
   "source": [
    "regressor=LinearRegression()\n",
    "regressor.fit(X_df[['Prev Close','High','Low','Open']],y_df)"
   ]
  },
  {
   "cell_type": "code",
   "execution_count": 17,
   "metadata": {},
   "outputs": [],
   "source": [
    "Xtest_df = pd.DataFrame(X_test, columns=[['Prev Close','Date','High','Low','Open']])"
   ]
  },
  {
   "cell_type": "code",
   "execution_count": 18,
   "metadata": {},
   "outputs": [],
   "source": [
    "y_pred=regressor.predict(Xtest_df[['Prev Close','High','Low','Open']])"
   ]
  },
  {
   "cell_type": "code",
   "execution_count": 19,
   "metadata": {},
   "outputs": [],
   "source": [
    "y_preddf = pd.DataFrame(y_pred,columns=['Close'])"
   ]
  },
  {
   "cell_type": "code",
   "execution_count": 20,
   "metadata": {},
   "outputs": [
    {
     "data": {
      "text/plain": [
       "0.9974162661269989"
      ]
     },
     "execution_count": 20,
     "metadata": {},
     "output_type": "execute_result"
    }
   ],
   "source": [
    "r2_score(y_test,y_pred)"
   ]
  },
  {
   "cell_type": "code",
   "execution_count": 21,
   "metadata": {},
   "outputs": [
    {
     "name": "stdout",
     "output_type": "stream",
     "text": [
      "    Prev Close       Date    High     Low    Open\n",
      "0       416.75 2019-08-28   421.7   411.5   416.9\n",
      "1       508.85 2020-09-23   521.0  498.25   520.5\n",
      "2        447.8 2020-01-27  451.75   442.2   447.0\n",
      "3       552.55 2020-12-22   571.1   540.4   553.0\n",
      "4        463.9 2020-05-13  469.45   450.2   469.0\n",
      "..         ...        ...     ...     ...     ...\n",
      "111     399.25 2019-06-10   405.8  394.05   402.0\n",
      "112     400.95 2019-07-01   406.5   401.5   402.0\n",
      "113     449.85 2020-01-24  452.85   446.8   450.0\n",
      "114      584.0 2020-12-31   594.9  582.05  584.65\n",
      "115      523.1 2020-10-06   527.6   519.0   526.0\n",
      "\n",
      "[116 rows x 5 columns]\n"
     ]
    }
   ],
   "source": [
    "print(Xtest_df)"
   ]
  },
  {
   "cell_type": "code",
   "execution_count": 22,
   "metadata": {},
   "outputs": [
    {
     "name": "stdout",
     "output_type": "stream",
     "text": [
      "[[413.1 ]\n",
      " [502.9 ]\n",
      " [448.4 ]\n",
      " [568.3 ]\n",
      " [452.35]\n",
      " [578.3 ]\n",
      " [409.75]\n",
      " [421.45]\n",
      " [473.15]\n",
      " [568.7 ]\n",
      " [490.3 ]\n",
      " [412.95]\n",
      " [640.65]\n",
      " [452.2 ]\n",
      " [462.  ]\n",
      " [441.7 ]\n",
      " [614.2 ]\n",
      " [454.5 ]\n",
      " [602.3 ]\n",
      " [448.6 ]\n",
      " [624.35]\n",
      " [499.7 ]\n",
      " [431.05]\n",
      " [397.85]\n",
      " [434.95]\n",
      " [485.6 ]\n",
      " [511.75]\n",
      " [416.8 ]\n",
      " [485.55]\n",
      " [454.45]\n",
      " [479.95]\n",
      " [427.  ]\n",
      " [426.55]\n",
      " [440.7 ]\n",
      " [631.5 ]\n",
      " [386.05]\n",
      " [431.25]\n",
      " [520.8 ]\n",
      " [459.1 ]\n",
      " [429.7 ]\n",
      " [398.3 ]\n",
      " [429.9 ]\n",
      " [643.4 ]\n",
      " [506.15]\n",
      " [440.05]\n",
      " [440.  ]\n",
      " [474.5 ]\n",
      " [383.95]\n",
      " [472.95]\n",
      " [646.05]\n",
      " [541.05]\n",
      " [418.95]\n",
      " [485.8 ]\n",
      " [605.5 ]\n",
      " [522.3 ]\n",
      " [582.9 ]\n",
      " [417.  ]\n",
      " [525.1 ]\n",
      " [501.9 ]\n",
      " [456.35]\n",
      " [452.45]\n",
      " [475.5 ]\n",
      " [525.95]\n",
      " [436.7 ]\n",
      " [623.6 ]\n",
      " [437.95]\n",
      " [452.9 ]\n",
      " [584.75]\n",
      " [590.45]\n",
      " [412.  ]\n",
      " [564.35]\n",
      " [429.8 ]\n",
      " [430.65]\n",
      " [512.45]\n",
      " [366.8 ]\n",
      " [571.65]\n",
      " [414.6 ]\n",
      " [365.25]\n",
      " [565.2 ]\n",
      " [528.95]\n",
      " [463.15]\n",
      " [499.15]\n",
      " [423.  ]\n",
      " [531.35]\n",
      " [473.1 ]\n",
      " [460.55]\n",
      " [539.35]\n",
      " [604.05]\n",
      " [427.65]\n",
      " [375.95]\n",
      " [476.15]\n",
      " [479.25]\n",
      " [461.  ]\n",
      " [422.95]\n",
      " [415.05]\n",
      " [405.45]\n",
      " [513.25]\n",
      " [419.45]\n",
      " [493.2 ]\n",
      " [434.3 ]\n",
      " [429.65]\n",
      " [450.9 ]\n",
      " [427.8 ]\n",
      " [601.45]\n",
      " [409.1 ]\n",
      " [386.3 ]\n",
      " [417.95]\n",
      " [611.2 ]\n",
      " [388.9 ]\n",
      " [489.  ]\n",
      " [404.95]\n",
      " [402.05]\n",
      " [405.35]\n",
      " [447.8 ]\n",
      " [592.35]\n",
      " [521.05]]\n"
     ]
    }
   ],
   "source": [
    "print(y_test)"
   ]
  },
  {
   "cell_type": "code",
   "execution_count": 23,
   "metadata": {},
   "outputs": [
    {
     "name": "stdout",
     "output_type": "stream",
     "text": [
      "[[416.29301745]\n",
      " [504.1812142 ]\n",
      " [446.62079039]\n",
      " [557.45525113]\n",
      " [455.48236746]\n",
      " [572.81403412]\n",
      " [414.11163071]\n",
      " [415.81031015]\n",
      " [482.82286774]\n",
      " [569.42906811]\n",
      " [492.79063726]\n",
      " [415.69049189]\n",
      " [641.87898471]\n",
      " [455.70309346]\n",
      " [464.21757625]\n",
      " [448.98700627]\n",
      " [609.7904994 ]\n",
      " [455.96197125]\n",
      " [602.64148633]\n",
      " [450.30965608]\n",
      " [618.74128638]\n",
      " [499.04293691]\n",
      " [433.17959876]\n",
      " [405.04026416]\n",
      " [438.62634554]\n",
      " [488.62209057]\n",
      " [515.72873425]\n",
      " [413.89829556]\n",
      " [489.57282884]\n",
      " [460.94401549]\n",
      " [477.44885475]\n",
      " [427.4974852 ]\n",
      " [432.51944098]\n",
      " [443.62308498]\n",
      " [632.95778923]\n",
      " [389.08382956]\n",
      " [434.23663405]\n",
      " [524.95930389]\n",
      " [452.80091893]\n",
      " [427.98168776]\n",
      " [402.57154363]\n",
      " [430.4465953 ]\n",
      " [642.10426586]\n",
      " [507.23731437]\n",
      " [437.43194986]\n",
      " [440.48133869]\n",
      " [475.17185906]\n",
      " [382.71960194]\n",
      " [473.49450982]\n",
      " [639.99804174]\n",
      " [538.93574625]\n",
      " [418.65160588]\n",
      " [489.73336784]\n",
      " [600.35480749]\n",
      " [525.11154982]\n",
      " [585.03519581]\n",
      " [419.07627168]\n",
      " [526.56461897]\n",
      " [506.2835648 ]\n",
      " [455.54068446]\n",
      " [450.61419861]\n",
      " [475.27616295]\n",
      " [526.85690545]\n",
      " [437.99448147]\n",
      " [628.56451118]\n",
      " [436.64637805]\n",
      " [458.51519312]\n",
      " [587.35643677]\n",
      " [587.57052773]\n",
      " [418.04513412]\n",
      " [566.53626449]\n",
      " [428.94134135]\n",
      " [432.26492453]\n",
      " [520.21609038]\n",
      " [372.71887756]\n",
      " [573.31831199]\n",
      " [416.73828569]\n",
      " [373.91375047]\n",
      " [565.4773187 ]\n",
      " [525.62690785]\n",
      " [464.50580501]\n",
      " [498.74115065]\n",
      " [426.40398215]\n",
      " [530.9660346 ]\n",
      " [476.25986652]\n",
      " [459.06981973]\n",
      " [532.59266437]\n",
      " [601.85712277]\n",
      " [430.64410483]\n",
      " [377.56868889]\n",
      " [477.73765992]\n",
      " [481.04785138]\n",
      " [467.94094561]\n",
      " [422.52112187]\n",
      " [415.02585638]\n",
      " [405.33460773]\n",
      " [508.38629865]\n",
      " [417.87050209]\n",
      " [493.84834127]\n",
      " [433.6738935 ]\n",
      " [424.43918553]\n",
      " [454.11940754]\n",
      " [422.04914722]\n",
      " [599.36799274]\n",
      " [409.03833581]\n",
      " [384.33584614]\n",
      " [419.45425806]\n",
      " [609.07618402]\n",
      " [390.05203408]\n",
      " [488.13389694]\n",
      " [408.9976937 ]\n",
      " [398.87472201]\n",
      " [404.47475128]\n",
      " [449.11567631]\n",
      " [589.31501575]\n",
      " [521.04674181]]\n"
     ]
    }
   ],
   "source": [
    "print(y_pred)"
   ]
  },
  {
   "cell_type": "code",
   "execution_count": 24,
   "metadata": {},
   "outputs": [],
   "source": [
    "# Xtest_df['Date'] = pd.to_datetime(Xtest_df['Date'])"
   ]
  },
  {
   "cell_type": "code",
   "execution_count": 25,
   "metadata": {},
   "outputs": [
    {
     "name": "stdout",
     "output_type": "stream",
     "text": [
      "    Prev Close       Date    High     Low    Open\n",
      "0       416.75 2019-08-28   421.7   411.5   416.9\n",
      "1       508.85 2020-09-23   521.0  498.25   520.5\n",
      "2        447.8 2020-01-27  451.75   442.2   447.0\n",
      "3       552.55 2020-12-22   571.1   540.4   553.0\n",
      "4        463.9 2020-05-13  469.45   450.2   469.0\n",
      "..         ...        ...     ...     ...     ...\n",
      "111     399.25 2019-06-10   405.8  394.05   402.0\n",
      "112     400.95 2019-07-01   406.5   401.5   402.0\n",
      "113     449.85 2020-01-24  452.85   446.8   450.0\n",
      "114      584.0 2020-12-31   594.9  582.05  584.65\n",
      "115      523.1 2020-10-06   527.6   519.0   526.0\n",
      "\n",
      "[116 rows x 5 columns]\n"
     ]
    }
   ],
   "source": [
    "print(Xtest_df)"
   ]
  },
  {
   "cell_type": "code",
   "execution_count": 26,
   "metadata": {},
   "outputs": [
    {
     "data": {
      "text/html": [
       "<div>\n",
       "<style scoped>\n",
       "    .dataframe tbody tr th:only-of-type {\n",
       "        vertical-align: middle;\n",
       "    }\n",
       "\n",
       "    .dataframe tbody tr th {\n",
       "        vertical-align: top;\n",
       "    }\n",
       "\n",
       "    .dataframe thead tr th {\n",
       "        text-align: left;\n",
       "    }\n",
       "</style>\n",
       "<table border=\"1\" class=\"dataframe\">\n",
       "  <thead>\n",
       "    <tr>\n",
       "      <th></th>\n",
       "      <th>Date</th>\n",
       "    </tr>\n",
       "  </thead>\n",
       "  <tbody>\n",
       "    <tr>\n",
       "      <th>0</th>\n",
       "      <td>2019-08-28</td>\n",
       "    </tr>\n",
       "    <tr>\n",
       "      <th>1</th>\n",
       "      <td>2020-09-23</td>\n",
       "    </tr>\n",
       "    <tr>\n",
       "      <th>2</th>\n",
       "      <td>2020-01-27</td>\n",
       "    </tr>\n",
       "    <tr>\n",
       "      <th>3</th>\n",
       "      <td>2020-12-22</td>\n",
       "    </tr>\n",
       "    <tr>\n",
       "      <th>4</th>\n",
       "      <td>2020-05-13</td>\n",
       "    </tr>\n",
       "    <tr>\n",
       "      <th>...</th>\n",
       "      <td>...</td>\n",
       "    </tr>\n",
       "    <tr>\n",
       "      <th>111</th>\n",
       "      <td>2019-06-10</td>\n",
       "    </tr>\n",
       "    <tr>\n",
       "      <th>112</th>\n",
       "      <td>2019-07-01</td>\n",
       "    </tr>\n",
       "    <tr>\n",
       "      <th>113</th>\n",
       "      <td>2020-01-24</td>\n",
       "    </tr>\n",
       "    <tr>\n",
       "      <th>114</th>\n",
       "      <td>2020-12-31</td>\n",
       "    </tr>\n",
       "    <tr>\n",
       "      <th>115</th>\n",
       "      <td>2020-10-06</td>\n",
       "    </tr>\n",
       "  </tbody>\n",
       "</table>\n",
       "<p>116 rows × 1 columns</p>\n",
       "</div>"
      ],
      "text/plain": [
       "          Date\n",
       "0   2019-08-28\n",
       "1   2020-09-23\n",
       "2   2020-01-27\n",
       "3   2020-12-22\n",
       "4   2020-05-13\n",
       "..         ...\n",
       "111 2019-06-10\n",
       "112 2019-07-01\n",
       "113 2020-01-24\n",
       "114 2020-12-31\n",
       "115 2020-10-06\n",
       "\n",
       "[116 rows x 1 columns]"
      ]
     },
     "execution_count": 26,
     "metadata": {},
     "output_type": "execute_result"
    }
   ],
   "source": [
    "Xtest_df.iloc[:,1:2]"
   ]
  },
  {
   "cell_type": "code",
   "execution_count": 27,
   "metadata": {},
   "outputs": [],
   "source": [
    "X_plot = Xtest_df.iloc[:,1:2]\n",
    "X_plotdf = pd.DataFrame(X_plot,columns = [('Date',)])"
   ]
  },
  {
   "cell_type": "code",
   "execution_count": 28,
   "metadata": {},
   "outputs": [
    {
     "name": "stdout",
     "output_type": "stream",
     "text": [
      "('Date',)\n"
     ]
    }
   ],
   "source": [
    "for col in X_plot:\n",
    "    print(col)"
   ]
  },
  {
   "cell_type": "code",
   "execution_count": 29,
   "metadata": {},
   "outputs": [],
   "source": [
    "y_testdf = pd.DataFrame(y_test,columns=['Close'])"
   ]
  },
  {
   "cell_type": "code",
   "execution_count": 30,
   "metadata": {},
   "outputs": [
    {
     "name": "stdout",
     "output_type": "stream",
     "text": [
      "          Date\n",
      "0   2019-08-28\n",
      "1   2020-09-23\n",
      "2   2020-01-27\n",
      "3   2020-12-22\n",
      "4   2020-05-13\n",
      "..         ...\n",
      "111 2019-06-10\n",
      "112 2019-07-01\n",
      "113 2020-01-24\n",
      "114 2020-12-31\n",
      "115 2020-10-06\n",
      "\n",
      "[116 rows x 1 columns]\n"
     ]
    }
   ],
   "source": [
    "print(X_plotdf)"
   ]
  },
  {
   "cell_type": "code",
   "execution_count": 31,
   "metadata": {},
   "outputs": [
    {
     "name": "stdout",
     "output_type": "stream",
     "text": [
      "(116, 1)\n",
      "(116, 1)\n"
     ]
    }
   ],
   "source": [
    "\n",
    "print(X_plotdf.shape)\n",
    "print(y_testdf.shape)"
   ]
  },
  {
   "cell_type": "code",
   "execution_count": 32,
   "metadata": {},
   "outputs": [],
   "source": [
    "new_df = pd.merge(X_plotdf, y_preddf, left_index=True, right_index=True)"
   ]
  },
  {
   "cell_type": "code",
   "execution_count": 33,
   "metadata": {},
   "outputs": [],
   "source": [
    "old_df = pd.merge(X_plotdf, y_testdf, left_index=True, right_index=True)"
   ]
  },
  {
   "cell_type": "code",
   "execution_count": 34,
   "metadata": {},
   "outputs": [],
   "source": [
    "new_df = new_df.rename(columns = {('Date',):'Date'})\n",
    "old_df = old_df.rename(columns = {('Date',):'Date'})\n",
    "new_df = new_df.rename(columns={('Close'):'Predicted Price'})\n",
    "old_df = old_df.rename(columns={('Close'):'Actual Price'})"
   ]
  },
  {
   "cell_type": "code",
   "execution_count": 35,
   "metadata": {},
   "outputs": [
    {
     "name": "stdout",
     "output_type": "stream",
     "text": [
      "          Date  Predicted Price\n",
      "0   2019-08-28       416.293017\n",
      "1   2020-09-23       504.181214\n",
      "2   2020-01-27       446.620790\n",
      "3   2020-12-22       557.455251\n",
      "4   2020-05-13       455.482367\n",
      "..         ...              ...\n",
      "111 2019-06-10       398.874722\n",
      "112 2019-07-01       404.474751\n",
      "113 2020-01-24       449.115676\n",
      "114 2020-12-31       589.315016\n",
      "115 2020-10-06       521.046742\n",
      "\n",
      "[116 rows x 2 columns]\n"
     ]
    }
   ],
   "source": [
    "print(new_df)"
   ]
  },
  {
   "cell_type": "code",
   "execution_count": 36,
   "metadata": {},
   "outputs": [
    {
     "name": "stdout",
     "output_type": "stream",
     "text": [
      "Date\n",
      "Actual Price\n"
     ]
    }
   ],
   "source": [
    "for col in old_df:\n",
    "    print(col)"
   ]
  },
  {
   "cell_type": "code",
   "execution_count": 37,
   "metadata": {},
   "outputs": [
    {
     "data": {
      "image/png": "[encoded data removed]",
      "text/plain": [
       "<Figure size 640x480 with 1 Axes>"
      ]
     },
     "metadata": {},
     "output_type": "display_data"
    }
   ],
   "source": [
    "old_df.set_index('Date', inplace=True)\n",
    "new_df.set_index('Date',inplace=True)\n",
    "ax = old_df.plot(color='red')\n",
    "new_df.plot(ax=ax,color='blue')\n",
    "plt.title('Price Comparison')\n",
    "plt.xlabel('Date')\n",
    "plt.ylabel('Price')\n",
    "plt.show()"
   ]
  },
  {
   "cell_type": "code",
   "execution_count": null,
   "metadata": {},
   "outputs": [],
   "source": []
  }
 ],
 "metadata": {
  "kernelspec": {
   "display_name": "Python 3",
   "language": "python",
   "name": "python3"
  },
  "language_info": {
   "codemirror_mode": {
    "name": "ipython",
    "version": 3
   },
   "file_extension": ".py",
   "mimetype": "text/x-python",
   "name": "python",
   "nbconvert_exporter": "python",
   "pygments_lexer": "ipython3",
   "version": "3.10.6"
  },
  "orig_nbformat": 4,
  "vscode": {
   "interpreter": {
    "hash": "916dbcbb3f70747c44a77c7bcd40155683ae19c65e1c03b4aa3499c5328201f1"
   }
  }
 },
 "nbformat": 4,
 "nbformat_minor": 2
}
