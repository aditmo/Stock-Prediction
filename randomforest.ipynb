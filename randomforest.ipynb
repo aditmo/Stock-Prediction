{
 "cells": [
  {
   "cell_type": "code",
   "execution_count": 39,
   "metadata": {},
   "outputs": [],
   "source": [
    "import os\n",
    "import pandas as pd\n",
    "from sklearn.model_selection import train_test_split\n",
    "from sklearn.ensemble import RandomForestRegressor\n",
    "from sklearn.metrics import r2_score\n",
    "import matplotlib.pyplot as plt\n",
    "import numpy as np\n",
    "import datetime"
   ]
  },
  {
   "cell_type": "code",
   "execution_count": 40,
   "metadata": {},
   "outputs": [
    {
     "data": {
      "text/plain": [
       "Date                     0\n",
       "Symbol                   0\n",
       "Series                   0\n",
       "Prev Close               0\n",
       "Open                     0\n",
       "High                     0\n",
       "Low                      0\n",
       "Last                     0\n",
       "Close                    0\n",
       "VWAP                     0\n",
       "Volume                   0\n",
       "Turnover                 0\n",
       "Trades                2850\n",
       "Deliverable Volume     528\n",
       "%Deliverble            528\n",
       "dtype: int64"
      ]
     },
     "execution_count": 40,
     "metadata": {},
     "output_type": "execute_result"
    }
   ],
   "source": [
    "df = pd.read_csv('SUNPHARMA.csv')\n",
    "\n",
    "df.isnull().sum()"
   ]
  },
  {
   "cell_type": "code",
   "execution_count": 41,
   "metadata": {},
   "outputs": [],
   "source": [
    "df['Date'] = pd.to_datetime(df['Date'])"
   ]
  },
  {
   "cell_type": "code",
   "execution_count": 42,
   "metadata": {},
   "outputs": [],
   "source": [
    "df = df[df['Date']>\"2019-01-01\"]"
   ]
  },
  {
   "cell_type": "code",
   "execution_count": 43,
   "metadata": {},
   "outputs": [
    {
     "data": {
      "text/html": [
       "<div>\n",
       "<style scoped>\n",
       "    .dataframe tbody tr th:only-of-type {\n",
       "        vertical-align: middle;\n",
       "    }\n",
       "\n",
       "    .dataframe tbody tr th {\n",
       "        vertical-align: top;\n",
       "    }\n",
       "\n",
       "    .dataframe thead th {\n",
       "        text-align: right;\n",
       "    }\n",
       "</style>\n",
       "<table border=\"1\" class=\"dataframe\">\n",
       "  <thead>\n",
       "    <tr style=\"text-align: right;\">\n",
       "      <th></th>\n",
       "      <th>Date</th>\n",
       "      <th>Symbol</th>\n",
       "      <th>Series</th>\n",
       "      <th>Prev Close</th>\n",
       "      <th>Open</th>\n",
       "      <th>High</th>\n",
       "      <th>Low</th>\n",
       "      <th>Last</th>\n",
       "      <th>Close</th>\n",
       "      <th>VWAP</th>\n",
       "      <th>Volume</th>\n",
       "      <th>Turnover</th>\n",
       "      <th>Trades</th>\n",
       "      <th>Deliverable Volume</th>\n",
       "      <th>%Deliverble</th>\n",
       "    </tr>\n",
       "  </thead>\n",
       "  <tbody>\n",
       "    <tr>\n",
       "      <th>4730</th>\n",
       "      <td>2019-01-02</td>\n",
       "      <td>SUNPHARMA</td>\n",
       "      <td>EQ</td>\n",
       "      <td>433.55</td>\n",
       "      <td>430.50</td>\n",
       "      <td>441.2</td>\n",
       "      <td>429.25</td>\n",
       "      <td>439.95</td>\n",
       "      <td>440.05</td>\n",
       "      <td>435.70</td>\n",
       "      <td>9656878</td>\n",
       "      <td>4.207479e+14</td>\n",
       "      <td>100434.0</td>\n",
       "      <td>3755920.0</td>\n",
       "      <td>0.3889</td>\n",
       "    </tr>\n",
       "    <tr>\n",
       "      <th>4731</th>\n",
       "      <td>2019-01-03</td>\n",
       "      <td>SUNPHARMA</td>\n",
       "      <td>EQ</td>\n",
       "      <td>440.05</td>\n",
       "      <td>442.05</td>\n",
       "      <td>443.6</td>\n",
       "      <td>434.00</td>\n",
       "      <td>434.90</td>\n",
       "      <td>436.10</td>\n",
       "      <td>439.97</td>\n",
       "      <td>9479511</td>\n",
       "      <td>4.170669e+14</td>\n",
       "      <td>112961.0</td>\n",
       "      <td>2912917.0</td>\n",
       "      <td>0.3073</td>\n",
       "    </tr>\n",
       "    <tr>\n",
       "      <th>4732</th>\n",
       "      <td>2019-01-04</td>\n",
       "      <td>SUNPHARMA</td>\n",
       "      <td>EQ</td>\n",
       "      <td>436.10</td>\n",
       "      <td>439.10</td>\n",
       "      <td>439.9</td>\n",
       "      <td>432.20</td>\n",
       "      <td>433.40</td>\n",
       "      <td>433.80</td>\n",
       "      <td>435.62</td>\n",
       "      <td>6228693</td>\n",
       "      <td>2.713361e+14</td>\n",
       "      <td>81360.0</td>\n",
       "      <td>1392009.0</td>\n",
       "      <td>0.2235</td>\n",
       "    </tr>\n",
       "    <tr>\n",
       "      <th>4733</th>\n",
       "      <td>2019-01-07</td>\n",
       "      <td>SUNPHARMA</td>\n",
       "      <td>EQ</td>\n",
       "      <td>433.80</td>\n",
       "      <td>437.10</td>\n",
       "      <td>438.0</td>\n",
       "      <td>429.30</td>\n",
       "      <td>430.85</td>\n",
       "      <td>430.80</td>\n",
       "      <td>433.19</td>\n",
       "      <td>4118235</td>\n",
       "      <td>1.783964e+14</td>\n",
       "      <td>64152.0</td>\n",
       "      <td>1444774.0</td>\n",
       "      <td>0.3508</td>\n",
       "    </tr>\n",
       "    <tr>\n",
       "      <th>4734</th>\n",
       "      <td>2019-01-08</td>\n",
       "      <td>SUNPHARMA</td>\n",
       "      <td>EQ</td>\n",
       "      <td>430.80</td>\n",
       "      <td>433.80</td>\n",
       "      <td>449.0</td>\n",
       "      <td>432.35</td>\n",
       "      <td>448.75</td>\n",
       "      <td>448.05</td>\n",
       "      <td>443.03</td>\n",
       "      <td>12368631</td>\n",
       "      <td>5.479690e+14</td>\n",
       "      <td>153466.0</td>\n",
       "      <td>3819410.0</td>\n",
       "      <td>0.3088</td>\n",
       "    </tr>\n",
       "  </tbody>\n",
       "</table>\n",
       "</div>"
      ],
      "text/plain": [
       "           Date     Symbol Series  Prev Close    Open   High     Low    Last   \n",
       "4730 2019-01-02  SUNPHARMA     EQ      433.55  430.50  441.2  429.25  439.95  \\\n",
       "4731 2019-01-03  SUNPHARMA     EQ      440.05  442.05  443.6  434.00  434.90   \n",
       "4732 2019-01-04  SUNPHARMA     EQ      436.10  439.10  439.9  432.20  433.40   \n",
       "4733 2019-01-07  SUNPHARMA     EQ      433.80  437.10  438.0  429.30  430.85   \n",
       "4734 2019-01-08  SUNPHARMA     EQ      430.80  433.80  449.0  432.35  448.75   \n",
       "\n",
       "       Close    VWAP    Volume      Turnover    Trades  Deliverable Volume   \n",
       "4730  440.05  435.70   9656878  4.207479e+14  100434.0           3755920.0  \\\n",
       "4731  436.10  439.97   9479511  4.170669e+14  112961.0           2912917.0   \n",
       "4732  433.80  435.62   6228693  2.713361e+14   81360.0           1392009.0   \n",
       "4733  430.80  433.19   4118235  1.783964e+14   64152.0           1444774.0   \n",
       "4734  448.05  443.03  12368631  5.479690e+14  153466.0           3819410.0   \n",
       "\n",
       "      %Deliverble  \n",
       "4730       0.3889  \n",
       "4731       0.3073  \n",
       "4732       0.2235  \n",
       "4733       0.3508  \n",
       "4734       0.3088  "
      ]
     },
     "execution_count": 43,
     "metadata": {},
     "output_type": "execute_result"
    }
   ],
   "source": [
    "df.head()"
   ]
  },
  {
   "cell_type": "code",
   "execution_count": 44,
   "metadata": {},
   "outputs": [],
   "source": [
    "X = df[['Prev Close','Date','High','Low','Open']].values\n",
    "y = df[['Close']].values"
   ]
  },
  {
   "cell_type": "code",
   "execution_count": 45,
   "metadata": {},
   "outputs": [
    {
     "data": {
      "text/plain": [
       "(576, 5)"
      ]
     },
     "execution_count": 45,
     "metadata": {},
     "output_type": "execute_result"
    }
   ],
   "source": [
    "X.shape"
   ]
  },
  {
   "cell_type": "code",
   "execution_count": 46,
   "metadata": {},
   "outputs": [],
   "source": [
    "X=X.reshape(-1,5)"
   ]
  },
  {
   "cell_type": "code",
   "execution_count": 47,
   "metadata": {},
   "outputs": [
    {
     "name": "stdout",
     "output_type": "stream",
     "text": [
      "(576, 5)\n"
     ]
    }
   ],
   "source": [
    "print(X.shape)"
   ]
  },
  {
   "cell_type": "code",
   "execution_count": 48,
   "metadata": {},
   "outputs": [
    {
     "name": "stdout",
     "output_type": "stream",
     "text": [
      "(576, 1)\n"
     ]
    }
   ],
   "source": [
    "print(y.shape)"
   ]
  },
  {
   "cell_type": "code",
   "execution_count": 49,
   "metadata": {},
   "outputs": [],
   "source": [
    "X_train,X_test,y_train,y_test=train_test_split(X,y,test_size=0.2,random_state=0)"
   ]
  },
  {
   "cell_type": "code",
   "execution_count": 50,
   "metadata": {},
   "outputs": [
    {
     "name": "stdout",
     "output_type": "stream",
     "text": [
      "[[503.65 Timestamp('2020-09-22 00:00:00') 515.0 493.6 509.5]\n",
      " [405.35 Timestamp('2019-07-02 00:00:00') 407.0 391.15 404.85]\n",
      " [643.65 Timestamp('2021-02-12 00:00:00') 654.4 622.35 654.4]\n",
      " ...\n",
      " [484.25 Timestamp('2020-06-19 00:00:00') 491.95 485.2 486.8]\n",
      " [396.8 Timestamp('2019-10-16 00:00:00') 402.2 394.25 398.05]\n",
      " [608.8 Timestamp('2021-04-06 00:00:00') 621.9 603.5 608.75]]\n"
     ]
    }
   ],
   "source": [
    "print(X_train)"
   ]
  },
  {
   "cell_type": "code",
   "execution_count": 51,
   "metadata": {},
   "outputs": [
    {
     "name": "stdout",
     "output_type": "stream",
     "text": [
      "[[523.45 Timestamp('2020-09-04 00:00:00') 530.4 508.25 518.0]\n",
      " [412.95 Timestamp('2019-05-24 00:00:00') 418.0 411.65 416.7]\n",
      " [568.7 Timestamp('2020-12-09 00:00:00') 583.95 566.7 571.0]\n",
      " [473.4 Timestamp('2020-04-21 00:00:00') 490.7 464.25 467.85]\n",
      " [618.95 Timestamp('2021-03-05 00:00:00') 619.45 606.9 619.45]\n",
      " [601.45 Timestamp('2021-02-25 00:00:00') 618.9 602.7 606.4]\n",
      " [633.25 Timestamp('2021-04-16 00:00:00') 650.0 626.35 633.25]\n",
      " [439.75 Timestamp('2019-12-19 00:00:00') 440.6 427.5 439.8]\n",
      " [596.25 Timestamp('2021-01-04 00:00:00') 609.45 595.2 600.0]\n",
      " [429.8 Timestamp('2019-12-12 00:00:00') 437.9 430.25 430.9]\n",
      " [548.25 Timestamp('2020-12-04 00:00:00') 572.9 545.2 550.0]\n",
      " [614.2 Timestamp('2021-03-03 00:00:00') 625.4 612.25 616.5]\n",
      " [412.0 Timestamp('2019-11-14 00:00:00') 417.35 407.55 413.2]\n",
      " [627.15 Timestamp('2021-02-15 00:00:00') 637.3 623.3 632.0]\n",
      " [416.8 Timestamp('2019-09-19 00:00:00') 418.9 408.2 416.8]\n",
      " [427.8 Timestamp('2019-08-26 00:00:00') 429.8 415.1 428.0]\n",
      " [629.2 Timestamp('2021-02-04 00:00:00') 641.0 626.25 632.5]\n",
      " [475.5 Timestamp('2020-07-28 00:00:00') 483.75 473.25 475.5]\n",
      " [433.6 Timestamp('2019-12-04 00:00:00') 444.7 431.7 433.5]\n",
      " [523.1 Timestamp('2020-10-06 00:00:00') 527.6 519.0 526.0]\n",
      " [604.4 Timestamp('2021-01-05 00:00:00') 608.7 600.0 608.45]\n",
      " [512.45 Timestamp('2020-09-07 00:00:00') 518.2 504.25 516.0]\n",
      " [613.6 Timestamp('2021-03-15 00:00:00') 614.0 596.5 614.0]\n",
      " [477.65 Timestamp('2020-04-30 00:00:00') 485.0 458.4 484.0]\n",
      " [417.75 Timestamp('2019-10-29 00:00:00') 425.5 414.0 417.7]\n",
      " [448.4 Timestamp('2020-01-28 00:00:00') 462.5 448.05 448.25]\n",
      " [429.7 Timestamp('2019-02-22 00:00:00') 436.75 428.45 431.0]\n",
      " [440.7 Timestamp('2020-05-19 00:00:00') 456.0 438.6 443.8]\n",
      " [569.05 Timestamp('2020-12-07 00:00:00') 591.5 567.05 570.35]\n",
      " [409.75 Timestamp('2019-05-16 00:00:00') 419.6 379.05 411.5]\n",
      " [440.1 Timestamp('2020-01-09 00:00:00') 444.85 439.0 442.7]\n",
      " [479.95 Timestamp('2020-06-29 00:00:00') 487.35 475.0 475.5]\n",
      " [431.25 Timestamp('2019-02-14 00:00:00') 444.9 428.65 432.0]\n",
      " [459.15 Timestamp('2020-05-27 00:00:00') 464.9 443.4 464.9]\n",
      " [398.3 Timestamp('2019-01-22 00:00:00') 423.5 409.4 411.0]\n",
      " [439.35 Timestamp('2019-09-04 00:00:00') 429.45 401.3 424.55]\n",
      " [352.3 Timestamp('2020-04-01 00:00:00') 355.25 338.4 353.0]\n",
      " [440.05 Timestamp('2019-01-03 00:00:00') 443.6 434.0 442.05]\n",
      " [476.0 Timestamp('2020-07-24 00:00:00') 497.8 481.25 490.0]\n",
      " [487.65 Timestamp('2020-06-26 00:00:00') 491.0 472.2 490.25]\n",
      " [440.0 Timestamp('2019-12-03 00:00:00') 442.2 430.5 441.4]\n",
      " [512.9 Timestamp('2020-10-12 00:00:00') 517.35 509.3 514.9]\n",
      " [525.95 Timestamp('2020-08-10 00:00:00') 550.8 526.0 526.0]\n",
      " [465.4 Timestamp('2020-06-02 00:00:00') 481.0 468.15 470.0]\n",
      " [422.2 Timestamp('2019-09-12 00:00:00') 439.8 419.45 424.75]\n",
      " [645.15 Timestamp('2021-04-22 00:00:00') 658.0 638.1 650.7]\n",
      " [414.6 Timestamp('2020-02-13 00:00:00') 420.1 412.0 414.6]\n",
      " [429.65 Timestamp('2019-10-31 00:00:00') 440.55 428.8 429.6]\n",
      " [421.45 Timestamp('2019-11-13 00:00:00') 426.9 410.0 420.0]\n",
      " [596.55 Timestamp('2021-01-20 00:00:00') 603.6 592.95 601.2]\n",
      " [452.45 Timestamp('2019-01-16 00:00:00') 457.4 447.15 451.4]\n",
      " [422.95 Timestamp('2019-07-16 00:00:00') 435.0 418.65 420.8]\n",
      " [528.85 Timestamp('2020-08-06 00:00:00') 541.45 526.15 533.9]\n",
      " [634.65 Timestamp('2021-02-09 00:00:00') 639.25 621.0 631.9]\n",
      " [585.3 Timestamp('2021-03-25 00:00:00') 587.95 571.5 584.4]\n",
      " [402.05 Timestamp('2019-06-11 00:00:00') 397.8 384.0 396.0]\n",
      " [576.25 Timestamp('2020-12-15 00:00:00') 580.0 569.0 575.0]\n",
      " [408.4 Timestamp('2020-02-18 00:00:00') 410.85 399.05 407.0]\n",
      " [462.0 Timestamp('2019-04-04 00:00:00') 469.9 459.5 463.0]\n",
      " [454.45 Timestamp('2020-04-13 00:00:00') 477.9 443.1 462.95]\n",
      " [418.95 Timestamp('2019-01-23 00:00:00') 434.4 411.65 417.7]\n",
      " [426.55 Timestamp('2019-01-18 00:00:00') 424.1 370.2 424.05]\n",
      " [493.2 Timestamp('2020-06-23 00:00:00') 503.0 489.5 493.2]\n",
      " [386.3 Timestamp('2019-10-14 00:00:00') 399.0 387.0 387.0]\n",
      " [428.4 Timestamp('2019-12-24 00:00:00') 432.45 425.4 428.0]\n",
      " [429.05 Timestamp('2019-12-18 00:00:00') 441.4 427.3 430.0]\n",
      " [454.5 Timestamp('2019-04-23 00:00:00') 472.4 453.0 453.0]\n",
      " [416.8 Timestamp('2019-06-04 00:00:00') 417.9 409.1 414.8]\n",
      " [422.8 Timestamp('2020-02-03 00:00:00') 428.9 414.0 423.8]\n",
      " [568.1 Timestamp('2020-12-14 00:00:00') 578.65 568.35 568.35]\n",
      " [469.4 Timestamp('2020-11-03 00:00:00') 490.6 465.75 472.05]\n",
      " [569.8 Timestamp('2021-01-28 00:00:00') 574.5 550.4 554.9]\n",
      " [429.9 Timestamp('2019-11-06 00:00:00') 452.9 422.1 432.4]\n",
      " [569.55 Timestamp('2020-12-10 00:00:00') 574.75 560.1 570.0]\n",
      " [463.15 Timestamp('2019-04-08 00:00:00') 467.2 460.45 464.6]\n",
      " [489.0 Timestamp('2020-06-09 00:00:00') 512.7 492.0 492.0]\n",
      " [423.0 Timestamp('2019-01-25 00:00:00') 429.75 419.35 425.4]\n",
      " [426.25 Timestamp('2020-02-06 00:00:00') 438.0 424.0 428.2]\n",
      " [403.55 Timestamp('2020-02-20 00:00:00') 411.5 403.55 403.85]\n",
      " [460.55 Timestamp('2019-03-07 00:00:00') 463.0 448.8 459.5]\n",
      " [511.7 Timestamp('2020-11-27 00:00:00') 520.8 509.2 514.0]\n",
      " [595.3 Timestamp('2021-02-23 00:00:00') 608.35 592.0 595.0]\n",
      " [503.15 Timestamp('2020-10-14 00:00:00') 507.5 493.3 503.15]\n",
      " [639.25 Timestamp('2021-04-28 00:00:00') 647.3 638.3 640.95]\n",
      " [493.9 Timestamp('2020-07-13 00:00:00') 501.7 492.3 495.0]\n",
      " [590.45 Timestamp('2020-12-28 00:00:00') 599.45 584.55 599.0]\n",
      " [461.0 Timestamp('2019-04-26 00:00:00') 469.4 462.6 464.0]\n",
      " [431.05 Timestamp('2019-07-30 00:00:00') 441.3 405.0 430.0]\n",
      " [386.05 Timestamp('2019-10-07 00:00:00') 387.65 372.6 386.05]\n",
      " [643.4 Timestamp('2021-04-29 00:00:00') 652.0 641.1 648.95]\n",
      " [417.35 Timestamp('2020-04-08 00:00:00') 448.75 413.15 419.0]\n",
      " [419.45 Timestamp('2019-05-15 00:00:00') 424.5 407.1 420.0]\n",
      " [415.05 Timestamp('2019-11-18 00:00:00') 430.0 417.05 418.0]\n",
      " [366.8 Timestamp('2019-07-09 00:00:00') 395.0 367.0 367.0]\n",
      " [444.6 Timestamp('2020-01-06 00:00:00') 444.7 435.1 440.9]\n",
      " [450.9 Timestamp('2019-03-08 00:00:00') 457.9 447.3 449.5]\n",
      " [513.9 Timestamp('2020-10-13 00:00:00') 519.95 501.6 514.0]\n",
      " [437.95 Timestamp('2019-11-05 00:00:00') 439.8 424.05 435.5]\n",
      " [500.45 Timestamp('2020-10-01 00:00:00') 510.5 501.3 505.1]\n",
      " [417.95 Timestamp('2019-01-31 00:00:00') 431.35 413.7 419.0]\n",
      " [604.05 Timestamp('2021-02-24 00:00:00') 609.35 595.85 607.1]\n",
      " [447.8 Timestamp('2020-01-27 00:00:00') 451.75 442.2 447.0]\n",
      " [531.7 Timestamp('2020-08-03 00:00:00') 540.2 516.8 534.1]\n",
      " [404.95 Timestamp('2020-02-24 00:00:00') 414.65 395.8 406.5]\n",
      " [362.75 Timestamp('2020-03-19 00:00:00') 374.45 347.65 351.7]\n",
      " [449.85 Timestamp('2020-01-24 00:00:00') 452.85 446.8 450.0]\n",
      " [590.6 Timestamp('2020-12-30 00:00:00') 595.0 581.5 595.0]\n",
      " [506.9 Timestamp('2020-10-05 00:00:00') 525.1 503.8 507.0]\n",
      " [365.25 Timestamp('2020-03-23 00:00:00') 354.7 315.05 345.0]\n",
      " [465.05 Timestamp('2019-04-15 00:00:00') 466.8 457.5 465.3]\n",
      " [581.45 Timestamp('2021-01-19 00:00:00') 603.0 583.35 586.9]\n",
      " [409.85 Timestamp('2019-06-03 00:00:00') 418.6 407.5 411.0]\n",
      " [397.85 Timestamp('2020-02-25 00:00:00') 402.4 385.3 402.4]\n",
      " [389.95 Timestamp('2019-06-12 00:00:00') 397.0 385.25 391.0]\n",
      " [541.05 Timestamp('2020-08-12 00:00:00') 540.75 529.75 540.75]\n",
      " [439.15 Timestamp('2019-05-09 00:00:00') 442.7 431.55 436.0]]\n"
     ]
    }
   ],
   "source": [
    "print(X_test)"
   ]
  },
  {
   "cell_type": "code",
   "execution_count": 52,
   "metadata": {},
   "outputs": [],
   "source": [
    "X_df = pd.DataFrame(X_train, columns=[['Prev Close','Date','High','Low','Open']])\n",
    "y_df = pd.DataFrame(y_train, columns=['Close'])"
   ]
  },
  {
   "cell_type": "code",
   "execution_count": 53,
   "metadata": {},
   "outputs": [
    {
     "name": "stdout",
     "output_type": "stream",
     "text": [
      "    Prev Close\n",
      "0       503.65\n",
      "1       405.35\n",
      "2       643.65\n",
      "3       385.75\n",
      "4       370.15\n",
      "..         ...\n",
      "455     418.95\n",
      "456     450.85\n",
      "457     484.25\n",
      "458      396.8\n",
      "459      608.8\n",
      "\n",
      "[460 rows x 1 columns]\n"
     ]
    }
   ],
   "source": [
    "print(X_df['Prev Close'])"
   ]
  },
  {
   "cell_type": "code",
   "execution_count": 54,
   "metadata": {},
   "outputs": [
    {
     "name": "stderr",
     "output_type": "stream",
     "text": [
      "/tmp/ipykernel_9476/391788777.py:2: DataConversionWarning: A column-vector y was passed when a 1d array was expected. Please change the shape of y to (n_samples,), for example using ravel().\n",
      "  regressor.fit(X_df[['Prev Close','High','Low','Open']],y_df)\n"
     ]
    },
    {
     "data": {
      "text/html": [
       "<style>#sk-container-id-2 {color: black;background-color: white;}#sk-container-id-2 pre{padding: 0;}#sk-container-id-2 div.sk-toggleable {background-color: white;}#sk-container-id-2 label.sk-toggleable__label {cursor: pointer;display: block;width: 100%;margin-bottom: 0;padding: 0.3em;box-sizing: border-box;text-align: center;}#sk-container-id-2 label.sk-toggleable__label-arrow:before {content: \"▸\";float: left;margin-right: 0.25em;color: #696969;}#sk-container-id-2 label.sk-toggleable__label-arrow:hover:before {color: black;}#sk-container-id-2 div.sk-estimator:hover label.sk-toggleable__label-arrow:before {color: black;}#sk-container-id-2 div.sk-toggleable__content {max-height: 0;max-width: 0;overflow: hidden;text-align: left;background-color: #f0f8ff;}#sk-container-id-2 div.sk-toggleable__content pre {margin: 0.2em;color: black;border-radius: 0.25em;background-color: #f0f8ff;}#sk-container-id-2 input.sk-toggleable__control:checked~div.sk-toggleable__content {max-height: 200px;max-width: 100%;overflow: auto;}#sk-container-id-2 input.sk-toggleable__control:checked~label.sk-toggleable__label-arrow:before {content: \"▾\";}#sk-container-id-2 div.sk-estimator input.sk-toggleable__control:checked~label.sk-toggleable__label {background-color: #d4ebff;}#sk-container-id-2 div.sk-label input.sk-toggleable__control:checked~label.sk-toggleable__label {background-color: #d4ebff;}#sk-container-id-2 input.sk-hidden--visually {border: 0;clip: rect(1px 1px 1px 1px);clip: rect(1px, 1px, 1px, 1px);height: 1px;margin: -1px;overflow: hidden;padding: 0;position: absolute;width: 1px;}#sk-container-id-2 div.sk-estimator {font-family: monospace;background-color: #f0f8ff;border: 1px dotted black;border-radius: 0.25em;box-sizing: border-box;margin-bottom: 0.5em;}#sk-container-id-2 div.sk-estimator:hover {background-color: #d4ebff;}#sk-container-id-2 div.sk-parallel-item::after {content: \"\";width: 100%;border-bottom: 1px solid gray;flex-grow: 1;}#sk-container-id-2 div.sk-label:hover label.sk-toggleable__label {background-color: #d4ebff;}#sk-container-id-2 div.sk-serial::before {content: \"\";position: absolute;border-left: 1px solid gray;box-sizing: border-box;top: 0;bottom: 0;left: 50%;z-index: 0;}#sk-container-id-2 div.sk-serial {display: flex;flex-direction: column;align-items: center;background-color: white;padding-right: 0.2em;padding-left: 0.2em;position: relative;}#sk-container-id-2 div.sk-item {position: relative;z-index: 1;}#sk-container-id-2 div.sk-parallel {display: flex;align-items: stretch;justify-content: center;background-color: white;position: relative;}#sk-container-id-2 div.sk-item::before, #sk-container-id-2 div.sk-parallel-item::before {content: \"\";position: absolute;border-left: 1px solid gray;box-sizing: border-box;top: 0;bottom: 0;left: 50%;z-index: -1;}#sk-container-id-2 div.sk-parallel-item {display: flex;flex-direction: column;z-index: 1;position: relative;background-color: white;}#sk-container-id-2 div.sk-parallel-item:first-child::after {align-self: flex-end;width: 50%;}#sk-container-id-2 div.sk-parallel-item:last-child::after {align-self: flex-start;width: 50%;}#sk-container-id-2 div.sk-parallel-item:only-child::after {width: 0;}#sk-container-id-2 div.sk-dashed-wrapped {border: 1px dashed gray;margin: 0 0.4em 0.5em 0.4em;box-sizing: border-box;padding-bottom: 0.4em;background-color: white;}#sk-container-id-2 div.sk-label label {font-family: monospace;font-weight: bold;display: inline-block;line-height: 1.2em;}#sk-container-id-2 div.sk-label-container {text-align: center;}#sk-container-id-2 div.sk-container {/* jupyter's `normalize.less` sets `[hidden] { display: none; }` but bootstrap.min.css set `[hidden] { display: none !important; }` so we also need the `!important` here to be able to override the default hidden behavior on the sphinx rendered scikit-learn.org. See: https://github.com/scikit-learn/scikit-learn/issues/21755 */display: inline-block !important;position: relative;}#sk-container-id-2 div.sk-text-repr-fallback {display: none;}</style><div id=\"sk-container-id-2\" class=\"sk-top-container\"><div class=\"sk-text-repr-fallback\"><pre>RandomForestRegressor(random_state=0)</pre><b>In a Jupyter environment, please rerun this cell to show the HTML representation or trust the notebook. <br />On GitHub, the HTML representation is unable to render, please try loading this page with nbviewer.org.</b></div><div class=\"sk-container\" hidden><div class=\"sk-item\"><div class=\"sk-estimator sk-toggleable\"><input class=\"sk-toggleable__control sk-hidden--visually\" id=\"sk-estimator-id-2\" type=\"checkbox\" checked><label for=\"sk-estimator-id-2\" class=\"sk-toggleable__label sk-toggleable__label-arrow\">RandomForestRegressor</label><div class=\"sk-toggleable__content\"><pre>RandomForestRegressor(random_state=0)</pre></div></div></div></div></div>"
      ],
      "text/plain": [
       "RandomForestRegressor(random_state=0)"
      ]
     },
     "execution_count": 54,
     "metadata": {},
     "output_type": "execute_result"
    }
   ],
   "source": [
    "regressor=RandomForestRegressor(n_estimators=100,random_state=0)\n",
    "regressor.fit(X_df[['Prev Close','High','Low','Open']],y_df)"
   ]
  },
  {
   "cell_type": "code",
   "execution_count": 55,
   "metadata": {},
   "outputs": [],
   "source": [
    "Xtest_df = pd.DataFrame(X_test, columns=[['Prev Close','Date','High','Low','Open']])"
   ]
  },
  {
   "cell_type": "code",
   "execution_count": 56,
   "metadata": {},
   "outputs": [],
   "source": [
    "y_pred=regressor.predict(Xtest_df[['Prev Close','High','Low','Open']])"
   ]
  },
  {
   "cell_type": "code",
   "execution_count": 57,
   "metadata": {},
   "outputs": [],
   "source": [
    "y_preddf = pd.DataFrame(y_pred,columns=['Close'])"
   ]
  },
  {
   "cell_type": "code",
   "execution_count": 58,
   "metadata": {},
   "outputs": [
    {
     "data": {
      "text/plain": [
       "0.9954986029008797"
      ]
     },
     "execution_count": 58,
     "metadata": {},
     "output_type": "execute_result"
    }
   ],
   "source": [
    "r2_score(y_test,y_pred)"
   ]
  },
  {
   "cell_type": "code",
   "execution_count": 59,
   "metadata": {},
   "outputs": [
    {
     "name": "stdout",
     "output_type": "stream",
     "text": [
      "    Prev Close       Date    High     Low    Open\n",
      "0       523.45 2020-09-04   530.4  508.25   518.0\n",
      "1       412.95 2019-05-24   418.0  411.65   416.7\n",
      "2        568.7 2020-12-09  583.95   566.7   571.0\n",
      "3        473.4 2020-04-21   490.7  464.25  467.85\n",
      "4       618.95 2021-03-05  619.45   606.9  619.45\n",
      "..         ...        ...     ...     ...     ...\n",
      "111     409.85 2019-06-03   418.6   407.5   411.0\n",
      "112     397.85 2020-02-25   402.4   385.3   402.4\n",
      "113     389.95 2019-06-12   397.0  385.25   391.0\n",
      "114     541.05 2020-08-12  540.75  529.75  540.75\n",
      "115     439.15 2019-05-09   442.7  431.55   436.0\n",
      "\n",
      "[116 rows x 5 columns]\n"
     ]
    }
   ],
   "source": [
    "print(Xtest_df)"
   ]
  },
  {
   "cell_type": "code",
   "execution_count": 60,
   "metadata": {},
   "outputs": [
    {
     "name": "stdout",
     "output_type": "stream",
     "text": [
      "[[512.45]\n",
      " [415.75]\n",
      " [569.55]\n",
      " [473.15]\n",
      " [611.2 ]\n",
      " [609.55]\n",
      " [646.05]\n",
      " [433.6 ]\n",
      " [604.4 ]\n",
      " [434.15]\n",
      " [569.05]\n",
      " [624.35]\n",
      " [410.2 ]\n",
      " [627.5 ]\n",
      " [411.15]\n",
      " [419.35]\n",
      " [631.5 ]\n",
      " [482.6 ]\n",
      " [443.7 ]\n",
      " [521.05]\n",
      " [603.45]\n",
      " [513.25]\n",
      " [605.5 ]\n",
      " [464.45]\n",
      " [421.95]\n",
      " [452.9 ]\n",
      " [430.5 ]\n",
      " [441.7 ]\n",
      " [582.3 ]\n",
      " [412.4 ]\n",
      " [439.85]\n",
      " [482.  ]\n",
      " [440.9 ]\n",
      " [450.9 ]\n",
      " [418.95]\n",
      " [426.45]\n",
      " [343.55]\n",
      " [436.1 ]\n",
      " [485.6 ]\n",
      " [479.95]\n",
      " [433.6 ]\n",
      " [513.9 ]\n",
      " [543.85]\n",
      " [473.1 ]\n",
      " [427.8 ]\n",
      " [639.95]\n",
      " [418.95]\n",
      " [433.4 ]\n",
      " [412.  ]\n",
      " [594.7 ]\n",
      " [453.8 ]\n",
      " [433.3 ]\n",
      " [532.25]\n",
      " [623.6 ]\n",
      " [575.75]\n",
      " [389.95]\n",
      " [571.65]\n",
      " [408.65]\n",
      " [465.6 ]\n",
      " [462.35]\n",
      " [431.  ]\n",
      " [390.75]\n",
      " [500.45]\n",
      " [394.65]\n",
      " [429.8 ]\n",
      " [439.75]\n",
      " [468.55]\n",
      " [411.15]\n",
      " [417.55]\n",
      " [576.25]\n",
      " [485.6 ]\n",
      " [564.35]\n",
      " [427.9 ]\n",
      " [565.2 ]\n",
      " [462.45]\n",
      " [500.75]\n",
      " [422.4 ]\n",
      " [430.65]\n",
      " [404.95]\n",
      " [450.9 ]\n",
      " [511.65]\n",
      " [604.05]\n",
      " [502.2 ]\n",
      " [643.4 ]\n",
      " [499.7 ]\n",
      " [586.95]\n",
      " [464.1 ]\n",
      " [410.35]\n",
      " [379.9 ]\n",
      " [644.5 ]\n",
      " [436.7 ]\n",
      " [409.75]\n",
      " [424.55]\n",
      " [386.4 ]\n",
      " [439.95]\n",
      " [454.95]\n",
      " [503.15]\n",
      " [429.9 ]\n",
      " [506.9 ]\n",
      " [423.45]\n",
      " [601.45]\n",
      " [448.4 ]\n",
      " [519.4 ]\n",
      " [397.85]\n",
      " [360.4 ]\n",
      " [447.8 ]\n",
      " [584.  ]\n",
      " [523.1 ]\n",
      " [324.5 ]\n",
      " [458.65]\n",
      " [596.55]\n",
      " [416.8 ]\n",
      " [388.9 ]\n",
      " [391.4 ]\n",
      " [532.15]\n",
      " [439.35]]\n"
     ]
    }
   ],
   "source": [
    "print(y_test)"
   ]
  },
  {
   "cell_type": "code",
   "execution_count": 61,
   "metadata": {},
   "outputs": [
    {
     "name": "stdout",
     "output_type": "stream",
     "text": [
      "[522.512  410.5905 574.8825 474.2135 611.996  616.8215 639.1905 432.6305\n",
      " 601.4895 433.672  560.1025 615.603  409.9785 631.872  413.4475 420.395\n",
      " 634.24   478.207  436.58   520.5355 603.184  507.9115 606.172  468.3985\n",
      " 419.3315 457.411  431.385  447.413  581.053  406.8315 438.8355 478.082\n",
      " 436.1705 452.5365 419.3105 416.358  346.6895 436.685  488.258  483.5115\n",
      " 434.3455 512.563  535.256  473.6045 429.72   643.7585 414.72   436.839\n",
      " 416.0025 600.4125 452.3475 425.4215 531.0245 630.4475 574.079  390.116\n",
      " 574.0085 405.02   464.7905 456.251  425.1185 404.9755 492.8    394.409\n",
      " 428.3915 436.3065 466.98   410.6515 419.659  573.6515 473.9395 567.3035\n",
      " 437.0645 571.567  463.347  508.1085 424.535  431.8675 407.3765 454.943\n",
      " 514.6285 600.9695 499.4815 642.6125 494.617  593.367  466.8125 418.7475\n",
      " 380.679  643.885  433.6235 414.2855 425.4085 385.8905 437.7605 454.304\n",
      " 509.536  433.8305 507.861  424.607  601.381  444.38   528.0595 404.1945\n",
      " 356.575  448.0675 588.0035 514.2485 349.6    463.06   588.877  410.5025\n",
      " 392.6905 391.6025 533.784  436.1135]\n"
     ]
    }
   ],
   "source": [
    "print(y_pred)"
   ]
  },
  {
   "cell_type": "code",
   "execution_count": 62,
   "metadata": {},
   "outputs": [],
   "source": [
    "# Xtest_df['Date'] = pd.to_datetime(Xtest_df['Date'])"
   ]
  },
  {
   "cell_type": "code",
   "execution_count": 63,
   "metadata": {},
   "outputs": [
    {
     "name": "stdout",
     "output_type": "stream",
     "text": [
      "    Prev Close       Date    High     Low    Open\n",
      "0       523.45 2020-09-04   530.4  508.25   518.0\n",
      "1       412.95 2019-05-24   418.0  411.65   416.7\n",
      "2        568.7 2020-12-09  583.95   566.7   571.0\n",
      "3        473.4 2020-04-21   490.7  464.25  467.85\n",
      "4       618.95 2021-03-05  619.45   606.9  619.45\n",
      "..         ...        ...     ...     ...     ...\n",
      "111     409.85 2019-06-03   418.6   407.5   411.0\n",
      "112     397.85 2020-02-25   402.4   385.3   402.4\n",
      "113     389.95 2019-06-12   397.0  385.25   391.0\n",
      "114     541.05 2020-08-12  540.75  529.75  540.75\n",
      "115     439.15 2019-05-09   442.7  431.55   436.0\n",
      "\n",
      "[116 rows x 5 columns]\n"
     ]
    }
   ],
   "source": [
    "print(Xtest_df)"
   ]
  },
  {
   "cell_type": "code",
   "execution_count": 64,
   "metadata": {},
   "outputs": [
    {
     "data": {
      "text/html": [
       "<div>\n",
       "<style scoped>\n",
       "    .dataframe tbody tr th:only-of-type {\n",
       "        vertical-align: middle;\n",
       "    }\n",
       "\n",
       "    .dataframe tbody tr th {\n",
       "        vertical-align: top;\n",
       "    }\n",
       "\n",
       "    .dataframe thead tr th {\n",
       "        text-align: left;\n",
       "    }\n",
       "</style>\n",
       "<table border=\"1\" class=\"dataframe\">\n",
       "  <thead>\n",
       "    <tr>\n",
       "      <th></th>\n",
       "      <th>Date</th>\n",
       "    </tr>\n",
       "  </thead>\n",
       "  <tbody>\n",
       "    <tr>\n",
       "      <th>0</th>\n",
       "      <td>2020-09-04</td>\n",
       "    </tr>\n",
       "    <tr>\n",
       "      <th>1</th>\n",
       "      <td>2019-05-24</td>\n",
       "    </tr>\n",
       "    <tr>\n",
       "      <th>2</th>\n",
       "      <td>2020-12-09</td>\n",
       "    </tr>\n",
       "    <tr>\n",
       "      <th>3</th>\n",
       "      <td>2020-04-21</td>\n",
       "    </tr>\n",
       "    <tr>\n",
       "      <th>4</th>\n",
       "      <td>2021-03-05</td>\n",
       "    </tr>\n",
       "    <tr>\n",
       "      <th>...</th>\n",
       "      <td>...</td>\n",
       "    </tr>\n",
       "    <tr>\n",
       "      <th>111</th>\n",
       "      <td>2019-06-03</td>\n",
       "    </tr>\n",
       "    <tr>\n",
       "      <th>112</th>\n",
       "      <td>2020-02-25</td>\n",
       "    </tr>\n",
       "    <tr>\n",
       "      <th>113</th>\n",
       "      <td>2019-06-12</td>\n",
       "    </tr>\n",
       "    <tr>\n",
       "      <th>114</th>\n",
       "      <td>2020-08-12</td>\n",
       "    </tr>\n",
       "    <tr>\n",
       "      <th>115</th>\n",
       "      <td>2019-05-09</td>\n",
       "    </tr>\n",
       "  </tbody>\n",
       "</table>\n",
       "<p>116 rows × 1 columns</p>\n",
       "</div>"
      ],
      "text/plain": [
       "          Date\n",
       "0   2020-09-04\n",
       "1   2019-05-24\n",
       "2   2020-12-09\n",
       "3   2020-04-21\n",
       "4   2021-03-05\n",
       "..         ...\n",
       "111 2019-06-03\n",
       "112 2020-02-25\n",
       "113 2019-06-12\n",
       "114 2020-08-12\n",
       "115 2019-05-09\n",
       "\n",
       "[116 rows x 1 columns]"
      ]
     },
     "execution_count": 64,
     "metadata": {},
     "output_type": "execute_result"
    }
   ],
   "source": [
    "Xtest_df.iloc[:,1:2]"
   ]
  },
  {
   "cell_type": "code",
   "execution_count": 65,
   "metadata": {},
   "outputs": [],
   "source": [
    "X_plot = Xtest_df.iloc[:,1:2]\n",
    "X_plotdf = pd.DataFrame(X_plot,columns = [('Date',)])"
   ]
  },
  {
   "cell_type": "code",
   "execution_count": 66,
   "metadata": {},
   "outputs": [
    {
     "name": "stdout",
     "output_type": "stream",
     "text": [
      "('Date',)\n"
     ]
    }
   ],
   "source": [
    "for col in X_plot:\n",
    "    print(col)"
   ]
  },
  {
   "cell_type": "code",
   "execution_count": 67,
   "metadata": {},
   "outputs": [],
   "source": [
    "y_testdf = pd.DataFrame(y_test,columns=['Close'])"
   ]
  },
  {
   "cell_type": "code",
   "execution_count": 68,
   "metadata": {},
   "outputs": [
    {
     "data": {
      "text/plain": [
       "0.9954986029008797"
      ]
     },
     "execution_count": 68,
     "metadata": {},
     "output_type": "execute_result"
    }
   ],
   "source": [
    "r2_score(y_test,y_pred)"
   ]
  },
  {
   "cell_type": "code",
   "execution_count": 69,
   "metadata": {},
   "outputs": [
    {
     "name": "stdout",
     "output_type": "stream",
     "text": [
      "          Date\n",
      "0   2020-09-04\n",
      "1   2019-05-24\n",
      "2   2020-12-09\n",
      "3   2020-04-21\n",
      "4   2021-03-05\n",
      "..         ...\n",
      "111 2019-06-03\n",
      "112 2020-02-25\n",
      "113 2019-06-12\n",
      "114 2020-08-12\n",
      "115 2019-05-09\n",
      "\n",
      "[116 rows x 1 columns]\n"
     ]
    }
   ],
   "source": [
    "print(X_plotdf)"
   ]
  },
  {
   "cell_type": "code",
   "execution_count": 70,
   "metadata": {},
   "outputs": [
    {
     "name": "stdout",
     "output_type": "stream",
     "text": [
      "(116, 1)\n",
      "(116, 1)\n"
     ]
    }
   ],
   "source": [
    "\n",
    "print(X_plotdf.shape)\n",
    "print(y_testdf.shape)"
   ]
  },
  {
   "cell_type": "code",
   "execution_count": 71,
   "metadata": {},
   "outputs": [],
   "source": [
    "new_df = pd.merge(X_plotdf, y_preddf, left_index=True, right_index=True)"
   ]
  },
  {
   "cell_type": "code",
   "execution_count": 72,
   "metadata": {},
   "outputs": [],
   "source": [
    "old_df = pd.merge(X_plotdf, y_testdf, left_index=True, right_index=True)"
   ]
  },
  {
   "cell_type": "code",
   "execution_count": 73,
   "metadata": {},
   "outputs": [],
   "source": [
    "new_df = new_df.rename(columns = {('Date',):'Date'})\n",
    "old_df = old_df.rename(columns = {('Date',):'Date'})\n",
    "new_df = new_df.rename(columns={('Close'):'Predicted Price'})\n",
    "old_df = old_df.rename(columns={('Close'):'Actual Price'})"
   ]
  },
  {
   "cell_type": "code",
   "execution_count": 74,
   "metadata": {},
   "outputs": [
    {
     "name": "stdout",
     "output_type": "stream",
     "text": [
      "          Date  Predicted Price\n",
      "0   2020-09-04         522.5120\n",
      "1   2019-05-24         410.5905\n",
      "2   2020-12-09         574.8825\n",
      "3   2020-04-21         474.2135\n",
      "4   2021-03-05         611.9960\n",
      "..         ...              ...\n",
      "111 2019-06-03         410.5025\n",
      "112 2020-02-25         392.6905\n",
      "113 2019-06-12         391.6025\n",
      "114 2020-08-12         533.7840\n",
      "115 2019-05-09         436.1135\n",
      "\n",
      "[116 rows x 2 columns]\n"
     ]
    }
   ],
   "source": [
    "print(new_df)"
   ]
  },
  {
   "cell_type": "code",
   "execution_count": 75,
   "metadata": {},
   "outputs": [
    {
     "name": "stdout",
     "output_type": "stream",
     "text": [
      "Date\n",
      "Actual Price\n"
     ]
    }
   ],
   "source": [
    "for col in old_df:\n",
    "    print(col)"
   ]
  },
  {
   "cell_type": "code",
   "execution_count": 76,
   "metadata": {},
   "outputs": [
    {
     "data": {
      "image/png": "[encoded data removed]",
      "text/plain": [
       "<Figure size 640x480 with 1 Axes>"
      ]
     },
     "metadata": {},
     "output_type": "display_data"
    }
   ],
   "source": [
    "old_df.set_index('Date', inplace=True)\n",
    "new_df.set_index('Date',inplace=True)\n",
    "ax = old_df.plot(color='red')\n",
    "new_df.plot(ax=ax,color='blue')\n",
    "plt.title('Price Comparison')\n",
    "plt.xlabel('Date')\n",
    "plt.ylabel('Price')\n",
    "plt.show()"
   ]
  },
  {
   "cell_type": "code",
   "execution_count": null,
   "metadata": {},
   "outputs": [],
   "source": []
  }
 ],
 "metadata": {
  "kernelspec": {
   "display_name": "Python 3",
   "language": "python",
   "name": "python3"
  },
  "language_info": {
   "codemirror_mode": {
    "name": "ipython",
    "version": 3
   },
   "file_extension": ".py",
   "mimetype": "text/x-python",
   "name": "python",
   "nbconvert_exporter": "python",
   "pygments_lexer": "ipython3",
   "version": "3.10.6"
  },
  "orig_nbformat": 4,
  "vscode": {
   "interpreter": {
    "hash": "916dbcbb3f70747c44a77c7bcd40155683ae19c65e1c03b4aa3499c5328201f1"
   }
  }
 },
 "nbformat": 4,
 "nbformat_minor": 2
}
